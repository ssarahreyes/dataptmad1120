{
 "cells": [
  {
   "cell_type": "markdown",
   "metadata": {},
   "source": [
    "# Introduction to NumPy\n",
    "\n",
    "\n",
    "#### 1. Import NumPy under the name np."
   ]
  },
  {
   "cell_type": "code",
   "execution_count": 3,
   "metadata": {},
   "outputs": [],
   "source": [
    "import numpy as np"
   ]
  },
  {
   "cell_type": "markdown",
   "metadata": {},
   "source": [
    "#### 2. Print your NumPy version."
   ]
  },
  {
   "cell_type": "code",
   "execution_count": 5,
   "metadata": {},
   "outputs": [
    {
     "name": "stdout",
     "output_type": "stream",
     "text": [
      "1.19.2\n"
     ]
    }
   ],
   "source": [
    "print(np.__version__)"
   ]
  },
  {
   "cell_type": "markdown",
   "metadata": {},
   "source": [
    "#### 3. Generate a 2x3x5 3-dimensional array with random values. Assign the array to variable *a*.\n",
    "**Challenge**: there are at least three easy ways that use numpy to generate random arrays. How many ways can you find?"
   ]
  },
  {
   "cell_type": "code",
   "execution_count": 7,
   "metadata": {},
   "outputs": [
    {
     "data": {
      "text/plain": [
       "array([[[0.89689944, 0.54207704, 0.26040616, 0.83339602, 0.90238299],\n",
       "        [0.84176741, 0.7775507 , 0.27896176, 0.36423662, 0.62307431],\n",
       "        [0.08894231, 0.02079869, 0.05311326, 0.04642015, 0.10690374]],\n",
       "\n",
       "       [[0.60217969, 0.71728192, 0.8652999 , 0.58909467, 0.38293484],\n",
       "        [0.90752314, 0.85180608, 0.96146075, 0.44644556, 0.92998044],\n",
       "        [0.83422069, 0.9675448 , 0.21807417, 0.36981374, 0.59143183]]])"
      ]
     },
     "execution_count": 7,
     "metadata": {},
     "output_type": "execute_result"
    }
   ],
   "source": [
    "# Method 1: usign random.\n",
    "a = np.random.random((2,3,5))\n",
    "a"
   ]
  },
  {
   "cell_type": "code",
   "execution_count": 19,
   "metadata": {},
   "outputs": [
    {
     "data": {
      "text/plain": [
       "array([[[84, 17,  8, 86,  2],\n",
       "        [54,  8, 29, 48, 42],\n",
       "        [40,  2,  0, 12,  0]],\n",
       "\n",
       "       [[67, 52, 64, 25, 61],\n",
       "        [76, 38, 46, 99, 80],\n",
       "        [98, 37, 68, 95, 65]]])"
      ]
     },
     "execution_count": 19,
     "metadata": {},
     "output_type": "execute_result"
    }
   ],
   "source": [
    "# Method 2: using Generator.integers\n",
    "rng.integers(100, size=(2,3,5))"
   ]
  },
  {
   "cell_type": "code",
   "execution_count": 23,
   "metadata": {},
   "outputs": [
    {
     "data": {
      "text/plain": [
       "array([[[ 54, 155, 113,  19, 133],\n",
       "        [151,  30,  78,   4,  43],\n",
       "        [ 25, 160, 154, 157,  90]],\n",
       "\n",
       "       [[170,  87, 178, 118,  42],\n",
       "        [106, 159,  47,  52,  80],\n",
       "        [ 24,  81, 189,  76, 142]]])"
      ]
     },
     "execution_count": 23,
     "metadata": {},
     "output_type": "execute_result"
    }
   ],
   "source": [
    "# Method 3: using randint.\n",
    "import random\n",
    "np.random.randint(low=0, high=200, size=(2,3,5))"
   ]
  },
  {
   "cell_type": "markdown",
   "metadata": {},
   "source": [
    "#### 4. Print *a*.\n"
   ]
  },
  {
   "cell_type": "code",
   "execution_count": 26,
   "metadata": {},
   "outputs": [
    {
     "name": "stdout",
     "output_type": "stream",
     "text": [
      "[[[0.89689944 0.54207704 0.26040616 0.83339602 0.90238299]\n",
      "  [0.84176741 0.7775507  0.27896176 0.36423662 0.62307431]\n",
      "  [0.08894231 0.02079869 0.05311326 0.04642015 0.10690374]]\n",
      "\n",
      " [[0.60217969 0.71728192 0.8652999  0.58909467 0.38293484]\n",
      "  [0.90752314 0.85180608 0.96146075 0.44644556 0.92998044]\n",
      "  [0.83422069 0.9675448  0.21807417 0.36981374 0.59143183]]]\n"
     ]
    }
   ],
   "source": [
    "print(a)"
   ]
  },
  {
   "cell_type": "markdown",
   "metadata": {},
   "source": [
    "#### 5. Create a 5x2x3 3-dimensional array with all values equaling 1. Assign the array to variable *b*."
   ]
  },
  {
   "cell_type": "code",
   "execution_count": 28,
   "metadata": {},
   "outputs": [],
   "source": [
    "# your code here\n",
    "b = np.ones((5,2,3))"
   ]
  },
  {
   "cell_type": "markdown",
   "metadata": {},
   "source": [
    "#### 6. Print *b*.\n"
   ]
  },
  {
   "cell_type": "code",
   "execution_count": 29,
   "metadata": {},
   "outputs": [
    {
     "name": "stdout",
     "output_type": "stream",
     "text": [
      "[[[1. 1. 1.]\n",
      "  [1. 1. 1.]]\n",
      "\n",
      " [[1. 1. 1.]\n",
      "  [1. 1. 1.]]\n",
      "\n",
      " [[1. 1. 1.]\n",
      "  [1. 1. 1.]]\n",
      "\n",
      " [[1. 1. 1.]\n",
      "  [1. 1. 1.]]\n",
      "\n",
      " [[1. 1. 1.]\n",
      "  [1. 1. 1.]]]\n"
     ]
    }
   ],
   "source": [
    "print(b)"
   ]
  },
  {
   "cell_type": "markdown",
   "metadata": {},
   "source": [
    "#### 7. Do *a* and *b* have the same size? How do you prove that in Python code?"
   ]
  },
  {
   "cell_type": "code",
   "execution_count": 30,
   "metadata": {},
   "outputs": [
    {
     "name": "stdout",
     "output_type": "stream",
     "text": [
      "30\n",
      "30\n"
     ]
    }
   ],
   "source": [
    "print(a.size)\n",
    "print(b.size)"
   ]
  },
  {
   "cell_type": "markdown",
   "metadata": {},
   "source": [
    "#### 8. Are you able to add *a* and *b*? Why or why not?\n"
   ]
  },
  {
   "cell_type": "code",
   "execution_count": 31,
   "metadata": {},
   "outputs": [
    {
     "ename": "ValueError",
     "evalue": "operands could not be broadcast together with shapes (2,3,5) (5,2,3) ",
     "output_type": "error",
     "traceback": [
      "\u001b[0;31m---------------------------------------------------------------------------\u001b[0m",
      "\u001b[0;31mValueError\u001b[0m                                Traceback (most recent call last)",
      "\u001b[0;32m<ipython-input-31-f0fc0d0be62a>\u001b[0m in \u001b[0;36m<module>\u001b[0;34m\u001b[0m\n\u001b[1;32m      1\u001b[0m \u001b[0;31m# your answer here\u001b[0m\u001b[0;34m\u001b[0m\u001b[0;34m\u001b[0m\u001b[0;34m\u001b[0m\u001b[0m\n\u001b[0;32m----> 2\u001b[0;31m \u001b[0mnp\u001b[0m\u001b[0;34m.\u001b[0m\u001b[0madd\u001b[0m\u001b[0;34m(\u001b[0m\u001b[0ma\u001b[0m\u001b[0;34m,\u001b[0m\u001b[0mb\u001b[0m\u001b[0;34m)\u001b[0m\u001b[0;34m\u001b[0m\u001b[0;34m\u001b[0m\u001b[0m\n\u001b[0m",
      "\u001b[0;31mValueError\u001b[0m: operands could not be broadcast together with shapes (2,3,5) (5,2,3) "
     ]
    }
   ],
   "source": [
    "# your answer here: no, we can0t add a and b beacause they have different shapes.\n",
    "np.add(a,b)"
   ]
  },
  {
   "cell_type": "markdown",
   "metadata": {},
   "source": [
    "#### 9. Transpose *b* so that it has the same structure of *a* (i.e. become a 2x3x5 array). Assign the transposed array to variable *c*."
   ]
  },
  {
   "cell_type": "code",
   "execution_count": 33,
   "metadata": {},
   "outputs": [
    {
     "data": {
      "text/plain": [
       "array([[[1., 1., 1., 1., 1.],\n",
       "        [1., 1., 1., 1., 1.],\n",
       "        [1., 1., 1., 1., 1.]],\n",
       "\n",
       "       [[1., 1., 1., 1., 1.],\n",
       "        [1., 1., 1., 1., 1.],\n",
       "        [1., 1., 1., 1., 1.]]])"
      ]
     },
     "execution_count": 33,
     "metadata": {},
     "output_type": "execute_result"
    }
   ],
   "source": [
    "# your code here\n",
    "c = np.reshape(b, (2, 3, 5))\n",
    "c"
   ]
  },
  {
   "cell_type": "markdown",
   "metadata": {},
   "source": [
    "#### 10. Try to add *a* and *c*. Now it should work. Assign the sum to variable *d*. But why does it work now?"
   ]
  },
  {
   "cell_type": "code",
   "execution_count": 36,
   "metadata": {},
   "outputs": [
    {
     "data": {
      "text/plain": [
       "array([[[1.89689944, 1.54207704, 1.26040616, 1.83339602, 1.90238299],\n",
       "        [1.84176741, 1.7775507 , 1.27896176, 1.36423662, 1.62307431],\n",
       "        [1.08894231, 1.02079869, 1.05311326, 1.04642015, 1.10690374]],\n",
       "\n",
       "       [[1.60217969, 1.71728192, 1.8652999 , 1.58909467, 1.38293484],\n",
       "        [1.90752314, 1.85180608, 1.96146075, 1.44644556, 1.92998044],\n",
       "        [1.83422069, 1.9675448 , 1.21807417, 1.36981374, 1.59143183]]])"
      ]
     },
     "execution_count": 36,
     "metadata": {},
     "output_type": "execute_result"
    }
   ],
   "source": [
    "# now we can add a and c because they have the same shape. \n",
    "d = np.add(a,c)\n",
    "d"
   ]
  },
  {
   "cell_type": "markdown",
   "metadata": {},
   "source": [
    "#### 11. Print *a* and *d*. Notice the difference and relation of the two array in terms of the values? Explain."
   ]
  },
  {
   "cell_type": "code",
   "execution_count": 50,
   "metadata": {},
   "outputs": [
    {
     "name": "stdout",
     "output_type": "stream",
     "text": [
      "This is a:\n",
      " [[[0.89689944 0.54207704 0.26040616 0.83339602 0.90238299]\n",
      "  [0.84176741 0.7775507  0.27896176 0.36423662 0.62307431]\n",
      "  [0.08894231 0.02079869 0.05311326 0.04642015 0.10690374]]\n",
      "\n",
      " [[0.60217969 0.71728192 0.8652999  0.58909467 0.38293484]\n",
      "  [0.90752314 0.85180608 0.96146075 0.44644556 0.92998044]\n",
      "  [0.83422069 0.9675448  0.21807417 0.36981374 0.59143183]]]\n",
      "\n",
      "This is d:\n",
      " [[[1.89689944 1.54207704 1.26040616 1.83339602 1.90238299]\n",
      "  [1.84176741 1.7775507  1.27896176 1.36423662 1.62307431]\n",
      "  [1.08894231 1.02079869 1.05311326 1.04642015 1.10690374]]\n",
      "\n",
      " [[1.60217969 1.71728192 1.8652999  1.58909467 1.38293484]\n",
      "  [1.90752314 1.85180608 1.96146075 1.44644556 1.92998044]\n",
      "  [1.83422069 1.9675448  1.21807417 1.36981374 1.59143183]]]\n"
     ]
    }
   ],
   "source": [
    "# The difference between the values of a and d is 1, because the values of c were just ones. We have add this ones to the numbers in a.\n",
    "print(\"This is a:\\n\", a)\n",
    "print()\n",
    "print(\"This is d:\\n\", d)"
   ]
  },
  {
   "cell_type": "markdown",
   "metadata": {},
   "source": [
    "#### 12. Multiply *a* and *c*. Assign the result to *e*."
   ]
  },
  {
   "cell_type": "code",
   "execution_count": 52,
   "metadata": {},
   "outputs": [
    {
     "data": {
      "text/plain": [
       "array([[[0.89689944, 0.54207704, 0.26040616, 0.83339602, 0.90238299],\n",
       "        [0.84176741, 0.7775507 , 0.27896176, 0.36423662, 0.62307431],\n",
       "        [0.08894231, 0.02079869, 0.05311326, 0.04642015, 0.10690374]],\n",
       "\n",
       "       [[0.60217969, 0.71728192, 0.8652999 , 0.58909467, 0.38293484],\n",
       "        [0.90752314, 0.85180608, 0.96146075, 0.44644556, 0.92998044],\n",
       "        [0.83422069, 0.9675448 , 0.21807417, 0.36981374, 0.59143183]]])"
      ]
     },
     "execution_count": 52,
     "metadata": {},
     "output_type": "execute_result"
    }
   ],
   "source": [
    "e = np.multiply(a,c)\n",
    "e"
   ]
  },
  {
   "cell_type": "markdown",
   "metadata": {},
   "source": [
    "#### 13. Does *e* equal to *a*? Why or why not?\n"
   ]
  },
  {
   "cell_type": "code",
   "execution_count": 55,
   "metadata": {},
   "outputs": [
    {
     "name": "stdout",
     "output_type": "stream",
     "text": [
      "This is a:\n",
      " [[[0.89689944 0.54207704 0.26040616 0.83339602 0.90238299]\n",
      "  [0.84176741 0.7775507  0.27896176 0.36423662 0.62307431]\n",
      "  [0.08894231 0.02079869 0.05311326 0.04642015 0.10690374]]\n",
      "\n",
      " [[0.60217969 0.71728192 0.8652999  0.58909467 0.38293484]\n",
      "  [0.90752314 0.85180608 0.96146075 0.44644556 0.92998044]\n",
      "  [0.83422069 0.9675448  0.21807417 0.36981374 0.59143183]]]\n",
      "\n",
      "This is e:\n",
      " [[[0.89689944 0.54207704 0.26040616 0.83339602 0.90238299]\n",
      "  [0.84176741 0.7775507  0.27896176 0.36423662 0.62307431]\n",
      "  [0.08894231 0.02079869 0.05311326 0.04642015 0.10690374]]\n",
      "\n",
      " [[0.60217969 0.71728192 0.8652999  0.58909467 0.38293484]\n",
      "  [0.90752314 0.85180608 0.96146075 0.44644556 0.92998044]\n",
      "  [0.83422069 0.9675448  0.21807417 0.36981374 0.59143183]]]\n"
     ]
    }
   ],
   "source": [
    "# a and e are the same because every positive number multiply by 1 is itself, so a = c * a.\n",
    "print(\"This is a:\\n\", a)\n",
    "print()\n",
    "print(\"This is e:\\n\", e)"
   ]
  },
  {
   "cell_type": "markdown",
   "metadata": {},
   "source": [
    "#### 14. Identify the max, min, and mean values in *d*. Assign those values to variables *d_max*, *d_min* and *d_mean*."
   ]
  },
  {
   "cell_type": "code",
   "execution_count": 57,
   "metadata": {},
   "outputs": [
    {
     "name": "stdout",
     "output_type": "stream",
     "text": [
      "This is d:\n",
      " [[[1.89689944 1.54207704 1.26040616 1.83339602 1.90238299]\n",
      "  [1.84176741 1.7775507  1.27896176 1.36423662 1.62307431]\n",
      "  [1.08894231 1.02079869 1.05311326 1.04642015 1.10690374]]\n",
      "\n",
      " [[1.60217969 1.71728192 1.8652999  1.58909467 1.38293484]\n",
      "  [1.90752314 1.85180608 1.96146075 1.44644556 1.92998044]\n",
      "  [1.83422069 1.9675448  1.21807417 1.36981374 1.59143183]]]\n",
      "\n",
      "Max value of d is: 1.9675448005884157\n",
      "\n",
      "Min value of d is: 1.0207986867980487\n",
      "\n",
      "The mean of d is: 1.5624007608645294\n"
     ]
    }
   ],
   "source": [
    "# your code here\n",
    "d_max = np.max(d)\n",
    "d_min = np.min(d)\n",
    "d_mean = np.mean(d)\n",
    "\n",
    "print(\"This is d:\\n\", d)\n",
    "print()\n",
    "print(\"Max value of d is:\", d_max)\n",
    "print()\n",
    "print(\"Min value of d is:\", d_min)\n",
    "print()\n",
    "print(\"The mean of d is:\", d_mean)"
   ]
  },
  {
   "cell_type": "markdown",
   "metadata": {},
   "source": [
    "#### 15. Now we want to label the values in *d*. First create an empty array *f* with the same shape (i.e. 2x3x5) as *d* using `np.empty`.\n"
   ]
  },
  {
   "cell_type": "code",
   "execution_count": 60,
   "metadata": {},
   "outputs": [
    {
     "data": {
      "text/plain": [
       "array([[[1.89689944, 1.54207704, 1.26040616, 1.83339602, 1.90238299],\n",
       "        [1.84176741, 1.7775507 , 1.27896176, 1.36423662, 1.62307431],\n",
       "        [1.08894231, 1.02079869, 1.05311326, 1.04642015, 1.10690374]],\n",
       "\n",
       "       [[1.60217969, 1.71728192, 1.8652999 , 1.58909467, 1.38293484],\n",
       "        [1.90752314, 1.85180608, 1.96146075, 1.44644556, 1.92998044],\n",
       "        [1.83422069, 1.9675448 , 1.21807417, 1.36981374, 1.59143183]]])"
      ]
     },
     "execution_count": 60,
     "metadata": {},
     "output_type": "execute_result"
    }
   ],
   "source": [
    "# your code here\n",
    "\n",
    "f = np.empty((2,3,5))\n",
    "f"
   ]
  },
  {
   "cell_type": "markdown",
   "metadata": {},
   "source": [
    "#### 16. Populate the values in *f*. \n",
    "\n",
    "For each value in *d*, if it's larger than *d_min* but smaller than *d_mean*, assign 25 to the corresponding value in *f*. If a value in *d* is larger than *d_mean* but smaller than *d_max*, assign 75 to the corresponding value in *f*. If a value equals to *d_mean*, assign 50 to the corresponding value in *f*. Assign 0 to the corresponding value(s) in *f* for *d_min* in *d*. Assign 100 to the corresponding value(s) in *f* for *d_max* in *d*. In the end, f should have only the following values: 0, 25, 50, 75, and 100.\n",
    "\n",
    "**Note**: you don't have to use Numpy in this question."
   ]
  },
  {
   "cell_type": "code",
   "execution_count": 1,
   "metadata": {},
   "outputs": [],
   "source": [
    "# your code here"
   ]
  },
  {
   "cell_type": "markdown",
   "metadata": {},
   "source": [
    "#### 17. Print *d* and *f*. Do you have your expected *f*?\n",
    "For instance, if your *d* is:\n",
    "```python\n",
    "[[[1.85836099, 1.67064465, 1.62576044, 1.40243961, 1.88454931],\n",
    "[1.75354326, 1.69403643, 1.36729252, 1.61415071, 1.12104981],\n",
    "[1.72201435, 1.1862918 , 1.87078449, 1.7726778 , 1.88180042]],\n",
    "[[1.44747908, 1.31673383, 1.02000951, 1.52218947, 1.97066381],\n",
    "[1.79129243, 1.74983003, 1.96028037, 1.85166831, 1.65450881],\n",
    "[1.18068344, 1.9587381 , 1.00656599, 1.93402165, 1.73514584]]]\n",
    "```\n",
    "Your *f* should be:\n",
    "```python\n",
    "[[[ 75.,  75.,  75.,  25.,  75.],\n",
    "[ 75.,  75.,  25.,  25.,  25.],\n",
    "[ 75.,  25.,  75.,  75.,  75.]],\n",
    "[[ 25.,  25.,  25.,  25., 100.],\n",
    "[ 75.,  75.,  75.,  75.,  75.],\n",
    "[ 25.,  75.,   0.,  75.,  75.]]]\n",
    "```"
   ]
  },
  {
   "cell_type": "code",
   "execution_count": null,
   "metadata": {},
   "outputs": [],
   "source": [
    "# your code here"
   ]
  },
  {
   "cell_type": "markdown",
   "metadata": {},
   "source": [
    "#### 18. Bonus question: instead of using numbers (i.e. 0, 25, 50, 75, and 100), use string values  (\"A\", \"B\", \"C\", \"D\", and \"E\") to label the array elements. For the example above, the expected result is:\n",
    "\n",
    "```python\n",
    "[[[ 'D',  'D',  'D',  'B',  'D'],\n",
    "[ 'D',  'D',  'B',  'B',  'B'],\n",
    "[ 'D',  'B',  'D',  'D',  'D']],\n",
    "[[ 'B',  'B',  'B',  'B',  'E'],\n",
    "[ 'D',  'D',  'D',  'D',  'D'],\n",
    "[ 'B',  'D',   'A',  'D', 'D']]]\n",
    "```\n",
    "**Note**: you don't have to use Numpy in this question."
   ]
  },
  {
   "cell_type": "code",
   "execution_count": null,
   "metadata": {},
   "outputs": [],
   "source": [
    "# your code here"
   ]
  }
 ],
 "metadata": {
  "kernelspec": {
   "display_name": "Python [conda env:ironhack_env]",
   "language": "python",
   "name": "conda-env-ironhack_env-py"
  },
  "language_info": {
   "codemirror_mode": {
    "name": "ipython",
    "version": 3
   },
   "file_extension": ".py",
   "mimetype": "text/x-python",
   "name": "python",
   "nbconvert_exporter": "python",
   "pygments_lexer": "ipython3",
   "version": "3.8.5"
  }
 },
 "nbformat": 4,
 "nbformat_minor": 4
}
