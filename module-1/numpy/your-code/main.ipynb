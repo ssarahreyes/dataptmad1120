{
 "cells": [
  {
   "cell_type": "markdown",
   "metadata": {},
   "source": [
    "# Introduction to NumPy\n",
    "\n",
    "\n",
    "#### 1. Import NumPy under the name np."
   ]
  },
  {
   "cell_type": "code",
   "execution_count": 1,
   "metadata": {},
   "outputs": [],
   "source": [
    "import numpy as np"
   ]
  },
  {
   "cell_type": "markdown",
   "metadata": {},
   "source": [
    "#### 2. Print your NumPy version."
   ]
  },
  {
   "cell_type": "code",
   "execution_count": 2,
   "metadata": {},
   "outputs": [
    {
     "name": "stdout",
     "output_type": "stream",
     "text": [
      "1.19.2\n"
     ]
    }
   ],
   "source": [
    "print(np.__version__)"
   ]
  },
  {
   "cell_type": "markdown",
   "metadata": {},
   "source": [
    "#### 3. Generate a 2x3x5 3-dimensional array with random values. Assign the array to variable *a*.\n",
    "**Challenge**: there are at least three easy ways that use numpy to generate random arrays. How many ways can you find?"
   ]
  },
  {
   "cell_type": "code",
   "execution_count": 3,
   "metadata": {},
   "outputs": [
    {
     "data": {
      "text/plain": [
       "array([[[0.47075573, 0.31043655, 0.35257783, 0.6980163 , 0.63764418],\n",
       "        [0.89139728, 0.7995838 , 0.77366709, 0.23945697, 0.87805168],\n",
       "        [0.53608845, 0.3019588 , 0.56307961, 0.7255602 , 0.29174251]],\n",
       "\n",
       "       [[0.34745422, 0.65030606, 0.47955149, 0.35512337, 0.3971777 ],\n",
       "        [0.85681071, 0.53243629, 0.987244  , 0.35967375, 0.22312514],\n",
       "        [0.25364724, 0.91169404, 0.07716353, 0.11628172, 0.90111458]]])"
      ]
     },
     "execution_count": 3,
     "metadata": {},
     "output_type": "execute_result"
    }
   ],
   "source": [
    "# Method 1: usign random.\n",
    "a = np.random.random((2,3,5))\n",
    "a"
   ]
  },
  {
   "cell_type": "code",
   "execution_count": 4,
   "metadata": {},
   "outputs": [
    {
     "data": {
      "text/plain": [
       "array([[[76, 25, 47, 76, 16],\n",
       "        [22, 74, 50, 23,  7],\n",
       "        [16, 89, 80, 16,  4]],\n",
       "\n",
       "       [[51, 41, 83, 93, 86],\n",
       "        [76, 49, 95, 53, 70],\n",
       "        [47, 72, 42,  7, 79]]])"
      ]
     },
     "execution_count": 4,
     "metadata": {},
     "output_type": "execute_result"
    }
   ],
   "source": [
    "# Method 2: using Generator.integers\n",
    "rng = np.random.default_rng()\n",
    "rng.integers(100, size=(2,3,5))"
   ]
  },
  {
   "cell_type": "code",
   "execution_count": 5,
   "metadata": {},
   "outputs": [
    {
     "data": {
      "text/plain": [
       "array([[[122,  86, 107,  80, 172],\n",
       "        [137,  86,  78, 116, 172],\n",
       "        [128, 107,  76,  98,  74]],\n",
       "\n",
       "       [[ 68, 140, 121,  68,  42],\n",
       "        [ 94, 152,  56,  73, 130],\n",
       "        [121, 133, 105, 191,  53]]])"
      ]
     },
     "execution_count": 5,
     "metadata": {},
     "output_type": "execute_result"
    }
   ],
   "source": [
    "# Method 3: using randint.\n",
    "import random\n",
    "np.random.randint(low=0, high=200, size=(2,3,5))"
   ]
  },
  {
   "cell_type": "markdown",
   "metadata": {},
   "source": [
    "#### 4. Print *a*.\n"
   ]
  },
  {
   "cell_type": "code",
   "execution_count": 6,
   "metadata": {},
   "outputs": [
    {
     "name": "stdout",
     "output_type": "stream",
     "text": [
      "[[[0.47075573 0.31043655 0.35257783 0.6980163  0.63764418]\n",
      "  [0.89139728 0.7995838  0.77366709 0.23945697 0.87805168]\n",
      "  [0.53608845 0.3019588  0.56307961 0.7255602  0.29174251]]\n",
      "\n",
      " [[0.34745422 0.65030606 0.47955149 0.35512337 0.3971777 ]\n",
      "  [0.85681071 0.53243629 0.987244   0.35967375 0.22312514]\n",
      "  [0.25364724 0.91169404 0.07716353 0.11628172 0.90111458]]]\n"
     ]
    }
   ],
   "source": [
    "print(a)"
   ]
  },
  {
   "cell_type": "markdown",
   "metadata": {},
   "source": [
    "#### 5. Create a 5x2x3 3-dimensional array with all values equaling 1. Assign the array to variable *b*."
   ]
  },
  {
   "cell_type": "code",
   "execution_count": 7,
   "metadata": {},
   "outputs": [],
   "source": [
    "b = np.ones((5,2,3))"
   ]
  },
  {
   "cell_type": "markdown",
   "metadata": {},
   "source": [
    "#### 6. Print *b*.\n"
   ]
  },
  {
   "cell_type": "code",
   "execution_count": 8,
   "metadata": {},
   "outputs": [
    {
     "name": "stdout",
     "output_type": "stream",
     "text": [
      "[[[1. 1. 1.]\n",
      "  [1. 1. 1.]]\n",
      "\n",
      " [[1. 1. 1.]\n",
      "  [1. 1. 1.]]\n",
      "\n",
      " [[1. 1. 1.]\n",
      "  [1. 1. 1.]]\n",
      "\n",
      " [[1. 1. 1.]\n",
      "  [1. 1. 1.]]\n",
      "\n",
      " [[1. 1. 1.]\n",
      "  [1. 1. 1.]]]\n"
     ]
    }
   ],
   "source": [
    "print(b)"
   ]
  },
  {
   "cell_type": "markdown",
   "metadata": {},
   "source": [
    "#### 7. Do *a* and *b* have the same size? How do you prove that in Python code?"
   ]
  },
  {
   "cell_type": "code",
   "execution_count": 9,
   "metadata": {},
   "outputs": [
    {
     "name": "stdout",
     "output_type": "stream",
     "text": [
      "30\n",
      "30\n"
     ]
    }
   ],
   "source": [
    "print(a.size)\n",
    "print(b.size)"
   ]
  },
  {
   "cell_type": "markdown",
   "metadata": {},
   "source": [
    "#### 8. Are you able to add *a* and *b*? Why or why not?\n"
   ]
  },
  {
   "cell_type": "code",
   "execution_count": 10,
   "metadata": {},
   "outputs": [
    {
     "ename": "ValueError",
     "evalue": "operands could not be broadcast together with shapes (2,3,5) (5,2,3) ",
     "output_type": "error",
     "traceback": [
      "\u001b[0;31m---------------------------------------------------------------------------\u001b[0m",
      "\u001b[0;31mValueError\u001b[0m                                Traceback (most recent call last)",
      "\u001b[0;32m<ipython-input-10-fc226f76b0ec>\u001b[0m in \u001b[0;36m<module>\u001b[0;34m\u001b[0m\n\u001b[1;32m      1\u001b[0m \u001b[0;31m# your answer here: no, we can0t add a and b beacause they have different shapes.\u001b[0m\u001b[0;34m\u001b[0m\u001b[0;34m\u001b[0m\u001b[0;34m\u001b[0m\u001b[0m\n\u001b[0;32m----> 2\u001b[0;31m \u001b[0mnp\u001b[0m\u001b[0;34m.\u001b[0m\u001b[0madd\u001b[0m\u001b[0;34m(\u001b[0m\u001b[0ma\u001b[0m\u001b[0;34m,\u001b[0m\u001b[0mb\u001b[0m\u001b[0;34m)\u001b[0m\u001b[0;34m\u001b[0m\u001b[0;34m\u001b[0m\u001b[0m\n\u001b[0m",
      "\u001b[0;31mValueError\u001b[0m: operands could not be broadcast together with shapes (2,3,5) (5,2,3) "
     ]
    }
   ],
   "source": [
    "# your answer here: no, we can0t add a and b beacause they have different shapes.\n",
    "np.add(a,b)"
   ]
  },
  {
   "cell_type": "markdown",
   "metadata": {},
   "source": [
    "#### 9. Transpose *b* so that it has the same structure of *a* (i.e. become a 2x3x5 array). Assign the transposed array to variable *c*."
   ]
  },
  {
   "cell_type": "code",
   "execution_count": 11,
   "metadata": {},
   "outputs": [
    {
     "data": {
      "text/plain": [
       "array([[[1., 1., 1., 1., 1.],\n",
       "        [1., 1., 1., 1., 1.],\n",
       "        [1., 1., 1., 1., 1.]],\n",
       "\n",
       "       [[1., 1., 1., 1., 1.],\n",
       "        [1., 1., 1., 1., 1.],\n",
       "        [1., 1., 1., 1., 1.]]])"
      ]
     },
     "execution_count": 11,
     "metadata": {},
     "output_type": "execute_result"
    }
   ],
   "source": [
    "# your code here\n",
    "c = np.reshape(b, (2, 3, 5))\n",
    "c"
   ]
  },
  {
   "cell_type": "markdown",
   "metadata": {},
   "source": [
    "#### 10. Try to add *a* and *c*. Now it should work. Assign the sum to variable *d*. But why does it work now?"
   ]
  },
  {
   "cell_type": "code",
   "execution_count": 12,
   "metadata": {},
   "outputs": [
    {
     "data": {
      "text/plain": [
       "array([[[1.47075573, 1.31043655, 1.35257783, 1.6980163 , 1.63764418],\n",
       "        [1.89139728, 1.7995838 , 1.77366709, 1.23945697, 1.87805168],\n",
       "        [1.53608845, 1.3019588 , 1.56307961, 1.7255602 , 1.29174251]],\n",
       "\n",
       "       [[1.34745422, 1.65030606, 1.47955149, 1.35512337, 1.3971777 ],\n",
       "        [1.85681071, 1.53243629, 1.987244  , 1.35967375, 1.22312514],\n",
       "        [1.25364724, 1.91169404, 1.07716353, 1.11628172, 1.90111458]]])"
      ]
     },
     "execution_count": 12,
     "metadata": {},
     "output_type": "execute_result"
    }
   ],
   "source": [
    "# now we can add a and c because they have the same shape. \n",
    "d = np.add(a,c)\n",
    "d"
   ]
  },
  {
   "cell_type": "markdown",
   "metadata": {},
   "source": [
    "#### 11. Print *a* and *d*. Notice the difference and relation of the two array in terms of the values? Explain."
   ]
  },
  {
   "cell_type": "code",
   "execution_count": 13,
   "metadata": {},
   "outputs": [
    {
     "name": "stdout",
     "output_type": "stream",
     "text": [
      "This is a:\n",
      " [[[0.47075573 0.31043655 0.35257783 0.6980163  0.63764418]\n",
      "  [0.89139728 0.7995838  0.77366709 0.23945697 0.87805168]\n",
      "  [0.53608845 0.3019588  0.56307961 0.7255602  0.29174251]]\n",
      "\n",
      " [[0.34745422 0.65030606 0.47955149 0.35512337 0.3971777 ]\n",
      "  [0.85681071 0.53243629 0.987244   0.35967375 0.22312514]\n",
      "  [0.25364724 0.91169404 0.07716353 0.11628172 0.90111458]]]\n",
      "\n",
      "This is d:\n",
      " [[[1.47075573 1.31043655 1.35257783 1.6980163  1.63764418]\n",
      "  [1.89139728 1.7995838  1.77366709 1.23945697 1.87805168]\n",
      "  [1.53608845 1.3019588  1.56307961 1.7255602  1.29174251]]\n",
      "\n",
      " [[1.34745422 1.65030606 1.47955149 1.35512337 1.3971777 ]\n",
      "  [1.85681071 1.53243629 1.987244   1.35967375 1.22312514]\n",
      "  [1.25364724 1.91169404 1.07716353 1.11628172 1.90111458]]]\n"
     ]
    }
   ],
   "source": [
    "# The difference between the values of a and d is 1, because the values of c were just ones. We have add this ones to the numbers in a.\n",
    "print(\"This is a:\\n\", a)\n",
    "print()\n",
    "print(\"This is d:\\n\", d)"
   ]
  },
  {
   "cell_type": "markdown",
   "metadata": {},
   "source": [
    "#### 12. Multiply *a* and *c*. Assign the result to *e*."
   ]
  },
  {
   "cell_type": "code",
   "execution_count": 14,
   "metadata": {},
   "outputs": [
    {
     "data": {
      "text/plain": [
       "array([[[0.47075573, 0.31043655, 0.35257783, 0.6980163 , 0.63764418],\n",
       "        [0.89139728, 0.7995838 , 0.77366709, 0.23945697, 0.87805168],\n",
       "        [0.53608845, 0.3019588 , 0.56307961, 0.7255602 , 0.29174251]],\n",
       "\n",
       "       [[0.34745422, 0.65030606, 0.47955149, 0.35512337, 0.3971777 ],\n",
       "        [0.85681071, 0.53243629, 0.987244  , 0.35967375, 0.22312514],\n",
       "        [0.25364724, 0.91169404, 0.07716353, 0.11628172, 0.90111458]]])"
      ]
     },
     "execution_count": 14,
     "metadata": {},
     "output_type": "execute_result"
    }
   ],
   "source": [
    "e = np.multiply(a,c)\n",
    "e"
   ]
  },
  {
   "cell_type": "markdown",
   "metadata": {},
   "source": [
    "#### 13. Does *e* equal to *a*? Why or why not?\n"
   ]
  },
  {
   "cell_type": "code",
   "execution_count": 15,
   "metadata": {},
   "outputs": [
    {
     "name": "stdout",
     "output_type": "stream",
     "text": [
      "This is a:\n",
      " [[[0.47075573 0.31043655 0.35257783 0.6980163  0.63764418]\n",
      "  [0.89139728 0.7995838  0.77366709 0.23945697 0.87805168]\n",
      "  [0.53608845 0.3019588  0.56307961 0.7255602  0.29174251]]\n",
      "\n",
      " [[0.34745422 0.65030606 0.47955149 0.35512337 0.3971777 ]\n",
      "  [0.85681071 0.53243629 0.987244   0.35967375 0.22312514]\n",
      "  [0.25364724 0.91169404 0.07716353 0.11628172 0.90111458]]]\n",
      "\n",
      "This is e:\n",
      " [[[0.47075573 0.31043655 0.35257783 0.6980163  0.63764418]\n",
      "  [0.89139728 0.7995838  0.77366709 0.23945697 0.87805168]\n",
      "  [0.53608845 0.3019588  0.56307961 0.7255602  0.29174251]]\n",
      "\n",
      " [[0.34745422 0.65030606 0.47955149 0.35512337 0.3971777 ]\n",
      "  [0.85681071 0.53243629 0.987244   0.35967375 0.22312514]\n",
      "  [0.25364724 0.91169404 0.07716353 0.11628172 0.90111458]]]\n"
     ]
    }
   ],
   "source": [
    "# a and e are the same because every positive number multiply by 1 is itself, so a = c * a.\n",
    "print(\"This is a:\\n\", a)\n",
    "print()\n",
    "print(\"This is e:\\n\", e)"
   ]
  },
  {
   "cell_type": "markdown",
   "metadata": {},
   "source": [
    "#### 14. Identify the max, min, and mean values in *d*. Assign those values to variables *d_max*, *d_min* and *d_mean*."
   ]
  },
  {
   "cell_type": "code",
   "execution_count": 16,
   "metadata": {},
   "outputs": [
    {
     "name": "stdout",
     "output_type": "stream",
     "text": [
      "This is d:\n",
      " [[[1.47075573 1.31043655 1.35257783 1.6980163  1.63764418]\n",
      "  [1.89139728 1.7995838  1.77366709 1.23945697 1.87805168]\n",
      "  [1.53608845 1.3019588  1.56307961 1.7255602  1.29174251]]\n",
      "\n",
      " [[1.34745422 1.65030606 1.47955149 1.35512337 1.3971777 ]\n",
      "  [1.85681071 1.53243629 1.987244   1.35967375 1.22312514]\n",
      "  [1.25364724 1.91169404 1.07716353 1.11628172 1.90111458]]]\n",
      "\n",
      "Max value of d is: 1.987243999290218\n",
      "\n",
      "Min value of d is: 1.0771635337520917\n",
      "\n",
      "The mean of d is: 1.5306273606776093\n"
     ]
    }
   ],
   "source": [
    "# your code here\n",
    "d_max = np.max(d)\n",
    "d_min = np.min(d)\n",
    "d_mean = np.mean(d)\n",
    "\n",
    "print(\"This is d:\\n\", d)\n",
    "print()\n",
    "print(\"Max value of d is:\", d_max)\n",
    "print()\n",
    "print(\"Min value of d is:\", d_min)\n",
    "print()\n",
    "print(\"The mean of d is:\", d_mean)"
   ]
  },
  {
   "cell_type": "markdown",
   "metadata": {},
   "source": [
    "#### 15. Now we want to label the values in *d*. First create an empty array *f* with the same shape (i.e. 2x3x5) as *d* using `np.empty`.\n"
   ]
  },
  {
   "cell_type": "code",
   "execution_count": 17,
   "metadata": {},
   "outputs": [
    {
     "name": "stdout",
     "output_type": "stream",
     "text": [
      "[[[1.47075573 1.31043655 1.35257783 1.6980163  1.63764418]\n",
      "  [1.89139728 1.7995838  1.77366709 1.23945697 1.87805168]\n",
      "  [1.53608845 1.3019588  1.56307961 1.7255602  1.29174251]]\n",
      "\n",
      " [[1.34745422 1.65030606 1.47955149 1.35512337 1.3971777 ]\n",
      "  [1.85681071 1.53243629 1.987244   1.35967375 1.22312514]\n",
      "  [1.25364724 1.91169404 1.07716353 1.11628172 1.90111458]]]\n",
      "\n",
      "[[[1.47075573 1.31043655 1.35257783 1.6980163  1.63764418]\n",
      "  [1.89139728 1.7995838  1.77366709 1.23945697 1.87805168]\n",
      "  [1.53608845 1.3019588  1.56307961 1.7255602  1.29174251]]\n",
      "\n",
      " [[1.34745422 1.65030606 1.47955149 1.35512337 1.3971777 ]\n",
      "  [1.85681071 1.53243629 1.987244   1.35967375 1.22312514]\n",
      "  [1.25364724 1.91169404 1.07716353 1.11628172 1.90111458]]]\n"
     ]
    }
   ],
   "source": [
    "f = np.empty((2,3,5))\n",
    "print(f)\n",
    "print()\n",
    "print(d)"
   ]
  },
  {
   "cell_type": "markdown",
   "metadata": {},
   "source": [
    "#### 16. Populate the values in *f*. \n",
    "\n",
    "For each value in *d*, if it's larger than *d_min* but smaller than *d_mean*, assign 25 to the corresponding value in *f*. If a value in *d* is larger than *d_mean* but smaller than *d_max*, assign 75 to the corresponding value in *f*. If a value equals to *d_mean*, assign 50 to the corresponding value in *f*. Assign 0 to the corresponding value(s) in *f* for *d_min* in *d*. Assign 100 to the corresponding value(s) in *f* for *d_max* in *d*. In the end, f should have only the following values: 0, 25, 50, 75, and 100.\n",
    "\n",
    "**Note**: you don't have to use Numpy in this question."
   ]
  },
  {
   "cell_type": "code",
   "execution_count": 62,
   "metadata": {},
   "outputs": [],
   "source": [
    "#I am doing a for loop in order to iterate all the elements in my array. I use de len() method to iterate\n",
    "#all the array. In this way I have a way to index each element in the array to use it later. Then I give\n",
    "#them their new values. \n",
    "\n",
    "for i in range(len(d)):\n",
    "    for j in range(len(d[i])):\n",
    "        for k in range(len(d[i, j])):\n",
    "            \n",
    "            value = d[i, j, k]\n",
    "            \n",
    "            if value > d_min and value < d_mean:\n",
    "                f[i][j][k] = 25\n",
    "        \n",
    "            if value > d_mean and value < d_max:\n",
    "                f[i][j][k] = 75\n",
    "        \n",
    "            if value == d_mean:\n",
    "                f[i][j][k] = 50\n",
    "        \n",
    "            if value == d_min:\n",
    "                f[i][j][k] = 0\n",
    "        \n",
    "            if value == d_max:\n",
    "                f[i][j][k] = 100"
   ]
  },
  {
   "cell_type": "markdown",
   "metadata": {},
   "source": [
    "#### 17. Print *d* and *f*. Do you have your expected *f*?\n",
    "For instance, if your *d* is:\n",
    "```python\n",
    "[[[1.85836099, 1.67064465, 1.62576044, 1.40243961, 1.88454931],\n",
    "[1.75354326, 1.69403643, 1.36729252, 1.61415071, 1.12104981],\n",
    "[1.72201435, 1.1862918 , 1.87078449, 1.7726778 , 1.88180042]],\n",
    "[[1.44747908, 1.31673383, 1.02000951, 1.52218947, 1.97066381],\n",
    "[1.79129243, 1.74983003, 1.96028037, 1.85166831, 1.65450881],\n",
    "[1.18068344, 1.9587381 , 1.00656599, 1.93402165, 1.73514584]]]\n",
    "```\n",
    "Your *f* should be:\n",
    "```python\n",
    "[[[ 75.,  75.,  75.,  25.,  75.],\n",
    "[ 75.,  75.,  25.,  25.,  25.],\n",
    "[ 75.,  25.,  75.,  75.,  75.]],\n",
    "[[ 25.,  25.,  25.,  25., 100.],\n",
    "[ 75.,  75.,  75.,  75.,  75.],\n",
    "[ 25.,  75.,   0.,  75.,  75.]]]\n",
    "```"
   ]
  },
  {
   "cell_type": "code",
   "execution_count": 63,
   "metadata": {},
   "outputs": [
    {
     "name": "stdout",
     "output_type": "stream",
     "text": [
      "[[[1.4707557251427463 1.3104365506579807 1.352577825243059\n",
      "   1.6980162984094052 1.637644178298934]\n",
      "  [1.89139727661841 1.7995838022946469 1.7736670859164634\n",
      "   1.2394569661238368 1.8780516846615796]\n",
      "  [1.5360884462508464 1.3019588016585835 1.5630796122583015\n",
      "   1.725560199576244 1.2917425133209544]]\n",
      "\n",
      " [[1.3474542239108054 1.650306064747888 1.4795514939906758\n",
      "   1.3551233659716155 1.3971777034331905]\n",
      "  [1.8568107086496901 1.5324362938614842 1.987243999290218\n",
      "   1.3596737523980076 1.2231251426084364]\n",
      "  [1.2536472363624427 1.911694042076224 1.0771635337520917\n",
      "   1.1162817175697142 1.9011145752738106]]]\n",
      "[[[ 25.  25.  25.  75.  75.]\n",
      "  [ 75.  75.  75.  25.  75.]\n",
      "  [ 75.  25.  75.  75.  25.]]\n",
      "\n",
      " [[ 25.  75.  25.  25.  25.]\n",
      "  [ 75.  75. 100.  25.  25.]\n",
      "  [ 25.  75.   0.  25.  75.]]]\n"
     ]
    }
   ],
   "source": [
    "#Showing the results:\n",
    "print(d)\n",
    "print(f)"
   ]
  },
  {
   "cell_type": "markdown",
   "metadata": {},
   "source": [
    "#### 18. Bonus question: instead of using numbers (i.e. 0, 25, 50, 75, and 100), use string values  (\"A\", \"B\", \"C\", \"D\", and \"E\") to label the array elements. For the example above, the expected result is:\n",
    "\n",
    "```python\n",
    "[[[ 'D',  'D',  'D',  'B',  'D'],\n",
    "[ 'D',  'D',  'B',  'B',  'B'],\n",
    "[ 'D',  'B',  'D',  'D',  'D']],\n",
    "[[ 'B',  'B',  'B',  'B',  'E'],\n",
    "[ 'D',  'D',  'D',  'D',  'D'],\n",
    "[ 'B',  'D',   'A',  'D', 'D']]]\n",
    "```\n",
    "**Note**: you don't have to use Numpy in this question."
   ]
  },
  {
   "cell_type": "code",
   "execution_count": 64,
   "metadata": {},
   "outputs": [],
   "source": [
    "#First, I create a new empty array.\n",
    "g = np.empty((2, 3, 5))"
   ]
  },
  {
   "cell_type": "code",
   "execution_count": 65,
   "metadata": {},
   "outputs": [],
   "source": [
    "#Secondly, I change the accepted data in the array.\n",
    "g = g.astype('object')"
   ]
  },
  {
   "cell_type": "code",
   "execution_count": 66,
   "metadata": {},
   "outputs": [
    {
     "name": "stdout",
     "output_type": "stream",
     "text": [
      "[[['A' 'A' 'A' 'B' 'B']\n",
      "  ['B' 'B' 'B' 'A' 'B']\n",
      "  ['B' 'A' 'B' 'B' 'A']]\n",
      "\n",
      " [['A' 'B' 'A' 'A' 'A']\n",
      "  ['B' 'B' 'E' 'A' 'A']\n",
      "  ['A' 'B' 'D' 'A' 'B']]]\n"
     ]
    }
   ],
   "source": [
    "#Then I give it the letter to each index inside the array.\n",
    "for i in range(len(d)):\n",
    "    for j in range(len(d[i])):\n",
    "        for k in range(len(d[i,j])):\n",
    "            \n",
    "            value = d[i, j, k]\n",
    "            \n",
    "            if value > d_min and value < d_mean:\n",
    "                g[i, j, k] = \"A\"\n",
    "                \n",
    "            if value > d_mean and value < d_max:\n",
    "                g[i, j, k] = \"B\"\n",
    "        \n",
    "            if value == d_mean:\n",
    "                g[i, j, k] = \"C\"\n",
    "                \n",
    "            if value == d_min:\n",
    "                g[i, j, k] = \"D\"\n",
    "        \n",
    "            if value == d_max:\n",
    "                g[i, j, k] = \"E\"      \n",
    "                \n",
    "print(g)"
   ]
  },
  {
   "cell_type": "raw",
   "metadata": {},
   "source": [
    "#Kata1: Insert dashes\n",
    "Write a function insertDash(num)/InsertDash(int num) that will insert dashes ('-') between each two odd numbers in num. For example: if num is 454793 the output should be 4547-9-3. Don't count zero as an odd number."
   ]
  },
  {
   "cell_type": "code",
   "execution_count": 11,
   "metadata": {},
   "outputs": [
    {
     "data": {
      "text/plain": [
       "'329-9-9-345'"
      ]
     },
     "execution_count": 11,
     "metadata": {},
     "output_type": "execute_result"
    }
   ],
   "source": [
    "#First, I create a function to check if a number is odd. \n",
    "def odd_number(num):\n",
    "    return int(num) % 2 != 0\n",
    "\n",
    "#Then, we change the number to string in order to be capable of to iterate it. With a for loop we check if there is odds numbers togethers.\n",
    "#In that case, the function add a dash bewteen numbers and add 1 to the index, in order to check the next number.\n",
    "def insert_dash(num):\n",
    "    number_as_string = str(num)\n",
    "    result = number_as_string[0]\n",
    "    for i in range(1, len(number_as_string)):\n",
    "        if odd_number(number_as_string[i - 1]) and odd_number(number_as_string[i]):\n",
    "            result += \"-\"\n",
    "        result += number_as_string[i]\n",
    "    return result\n",
    "\n",
    "insert_dash(32999345)"
   ]
  },
  {
   "cell_type": "raw",
   "metadata": {},
   "source": [
    "#Kata2: Thinkful - Logic Drills: Red and bumpy\n",
    "\n",
    "You're playing a game with a friend involving a bag of marbles. In the bag are ten marbles:\n",
    "\n",
    "1 smooth red marble\n",
    "4 bumpy red marbles\n",
    "2 bumpy yellow marbles\n",
    "1 smooth yellow marble\n",
    "1 bumpy green marble\n",
    "1 smooth green marble\n",
    "You can see that the probability of picking a smooth red marble from the bag is 1 / 10 or 0.10 and the probability of picking a bumpy yellow marble is 2 / 10 or 0.20.\n",
    "\n",
    "The game works like this: your friend puts her hand in the bag, chooses a marble (without looking at it) and tells you whether it's bumpy or smooth. Then you have to guess which color it is before she pulls it out and reveals whether you're correct or not.\n",
    "\n",
    "You know that the information about whether the marble is bumpy or smooth changes the probability of what color it is, and you want some help with your guesses.\n",
    "\n",
    "Write a function color_probability() that takes two arguments: a color ('red', 'yellow', or 'green') and a texture ('bumpy' or 'smooth') and returns the probability as a decimal fraction accurate to two places.\n",
    "\n",
    "The probability should be a string and should discard any digits after the 100ths place. For example, 2 / 3 or 0.6666666666666666 would become the string '0.66'. Note this is different from rounding.\n",
    "\n",
    "As a complete example, color_probability('red', 'bumpy') should return the string '0.57'."
   ]
  },
  {
   "cell_type": "code",
   "execution_count": 13,
   "metadata": {},
   "outputs": [
    {
     "data": {
      "text/plain": [
       "'0.57'"
      ]
     },
     "execution_count": 13,
     "metadata": {},
     "output_type": "execute_result"
    }
   ],
   "source": [
    "def color_probability(color, texture):\n",
    "    if color == 'red' and texture == 'smooth':\n",
    "        return '0.33'\n",
    "    if  color == 'red' and texture == 'bumpy':\n",
    "        return '0.57'\n",
    "    if color == 'yellow' and texture == 'smooth':\n",
    "        return '0.33'\n",
    "    if color == 'yellow' and texture == 'bumpy':\n",
    "        return '0.28'\n",
    "    if color == 'green' and texture == 'smooth':\n",
    "          return '0.33'\n",
    "    if color == 'green' and texture == 'bumpy':\n",
    "        return '0.14'\n",
    "    \n",
    "color_probability('red', 'bumpy')"
   ]
  }
 ],
 "metadata": {
  "kernelspec": {
   "display_name": "Python [conda env:ironhack_env]",
   "language": "python",
   "name": "conda-env-ironhack_env-py"
  },
  "language_info": {
   "codemirror_mode": {
    "name": "ipython",
    "version": 3
   },
   "file_extension": ".py",
   "mimetype": "text/x-python",
   "name": "python",
   "nbconvert_exporter": "python",
   "pygments_lexer": "ipython3",
   "version": "3.8.5"
  }
 },
 "nbformat": 4,
 "nbformat_minor": 4
}
