{
 "cells": [
  {
   "cell_type": "markdown",
   "metadata": {},
   "source": [
    "# Introduction to NumPy\n",
    "\n",
    "\n",
    "#### 1. Import NumPy under the name np."
   ]
  },
  {
   "cell_type": "code",
   "execution_count": 1,
   "metadata": {},
   "outputs": [],
   "source": [
    "import numpy as np"
   ]
  },
  {
   "cell_type": "markdown",
   "metadata": {},
   "source": [
    "#### 2. Print your NumPy version."
   ]
  },
  {
   "cell_type": "code",
   "execution_count": 2,
   "metadata": {},
   "outputs": [
    {
     "name": "stdout",
     "output_type": "stream",
     "text": [
      "1.19.2\n"
     ]
    }
   ],
   "source": [
    "print(np.__version__)"
   ]
  },
  {
   "cell_type": "markdown",
   "metadata": {},
   "source": [
    "#### 3. Generate a 2x3x5 3-dimensional array with random values. Assign the array to variable *a*.\n",
    "**Challenge**: there are at least three easy ways that use numpy to generate random arrays. How many ways can you find?"
   ]
  },
  {
   "cell_type": "code",
   "execution_count": 26,
   "metadata": {},
   "outputs": [
    {
     "data": {
      "text/plain": [
       "array([[[0.60269836, 0.97347391, 0.76414466, 0.53102548, 0.35352821],\n",
       "        [0.0153325 , 0.53331695, 0.36105004, 0.76111151, 0.62595392],\n",
       "        [0.5156144 , 0.77076004, 0.24249056, 0.94406171, 0.98917422]],\n",
       "\n",
       "       [[0.44790465, 0.46990159, 0.48156613, 0.92963951, 0.11459211],\n",
       "        [0.10674091, 0.57711027, 0.85275685, 0.84640848, 0.34216641],\n",
       "        [0.63670185, 0.69894884, 0.45114395, 0.09750849, 0.09564564]]])"
      ]
     },
     "execution_count": 26,
     "metadata": {},
     "output_type": "execute_result"
    }
   ],
   "source": [
    "# Method 1: usign random.\n",
    "a = np.random.random((2,3,5))\n",
    "a"
   ]
  },
  {
   "cell_type": "code",
   "execution_count": 35,
   "metadata": {},
   "outputs": [
    {
     "data": {
      "text/plain": [
       "array([[[20, 29, 56, 48, 50],\n",
       "        [14, 52, 33, 89, 25],\n",
       "        [33, 91, 51, 31, 47]],\n",
       "\n",
       "       [[40, 26, 91, 30, 84],\n",
       "        [74, 70,  3, 90, 75],\n",
       "        [29, 24, 29, 81, 89]]])"
      ]
     },
     "execution_count": 35,
     "metadata": {},
     "output_type": "execute_result"
    }
   ],
   "source": [
    "# Method 2: using Generator.integers\n",
    "rng = np.random.default_rng()\n",
    "rng.integers(100, size=(2,3,5))"
   ]
  },
  {
   "cell_type": "code",
   "execution_count": 36,
   "metadata": {},
   "outputs": [
    {
     "data": {
      "text/plain": [
       "array([[[ 63,  79,  90,  90, 178],\n",
       "        [196, 150,  46,  34, 198],\n",
       "        [ 32, 166,  72, 105,  43]],\n",
       "\n",
       "       [[ 75, 149,  18, 103,   5],\n",
       "        [117,  74, 126,  96, 167],\n",
       "        [ 99,  19,  62,  81, 133]]])"
      ]
     },
     "execution_count": 36,
     "metadata": {},
     "output_type": "execute_result"
    }
   ],
   "source": [
    "# Method 3: using randint.\n",
    "import random\n",
    "np.random.randint(low=0, high=200, size=(2,3,5))"
   ]
  },
  {
   "cell_type": "markdown",
   "metadata": {},
   "source": [
    "#### 4. Print *a*.\n"
   ]
  },
  {
   "cell_type": "code",
   "execution_count": 37,
   "metadata": {},
   "outputs": [
    {
     "name": "stdout",
     "output_type": "stream",
     "text": [
      "[[[0.60269836 0.97347391 0.76414466 0.53102548 0.35352821]\n",
      "  [0.0153325  0.53331695 0.36105004 0.76111151 0.62595392]\n",
      "  [0.5156144  0.77076004 0.24249056 0.94406171 0.98917422]]\n",
      "\n",
      " [[0.44790465 0.46990159 0.48156613 0.92963951 0.11459211]\n",
      "  [0.10674091 0.57711027 0.85275685 0.84640848 0.34216641]\n",
      "  [0.63670185 0.69894884 0.45114395 0.09750849 0.09564564]]]\n"
     ]
    }
   ],
   "source": [
    "print(a)"
   ]
  },
  {
   "cell_type": "markdown",
   "metadata": {},
   "source": [
    "#### 5. Create a 5x2x3 3-dimensional array with all values equaling 1. Assign the array to variable *b*."
   ]
  },
  {
   "cell_type": "code",
   "execution_count": 38,
   "metadata": {},
   "outputs": [],
   "source": [
    "b = np.ones((5,2,3))"
   ]
  },
  {
   "cell_type": "markdown",
   "metadata": {},
   "source": [
    "#### 6. Print *b*.\n"
   ]
  },
  {
   "cell_type": "code",
   "execution_count": 39,
   "metadata": {},
   "outputs": [
    {
     "name": "stdout",
     "output_type": "stream",
     "text": [
      "[[[1. 1. 1.]\n",
      "  [1. 1. 1.]]\n",
      "\n",
      " [[1. 1. 1.]\n",
      "  [1. 1. 1.]]\n",
      "\n",
      " [[1. 1. 1.]\n",
      "  [1. 1. 1.]]\n",
      "\n",
      " [[1. 1. 1.]\n",
      "  [1. 1. 1.]]\n",
      "\n",
      " [[1. 1. 1.]\n",
      "  [1. 1. 1.]]]\n"
     ]
    }
   ],
   "source": [
    "print(b)"
   ]
  },
  {
   "cell_type": "markdown",
   "metadata": {},
   "source": [
    "#### 7. Do *a* and *b* have the same size? How do you prove that in Python code?"
   ]
  },
  {
   "cell_type": "code",
   "execution_count": 40,
   "metadata": {},
   "outputs": [
    {
     "name": "stdout",
     "output_type": "stream",
     "text": [
      "30\n",
      "30\n"
     ]
    }
   ],
   "source": [
    "print(a.size)\n",
    "print(b.size)"
   ]
  },
  {
   "cell_type": "markdown",
   "metadata": {},
   "source": [
    "#### 8. Are you able to add *a* and *b*? Why or why not?\n"
   ]
  },
  {
   "cell_type": "code",
   "execution_count": 41,
   "metadata": {},
   "outputs": [
    {
     "ename": "ValueError",
     "evalue": "operands could not be broadcast together with shapes (2,3,5) (5,2,3) ",
     "output_type": "error",
     "traceback": [
      "\u001b[0;31m---------------------------------------------------------------------------\u001b[0m",
      "\u001b[0;31mValueError\u001b[0m                                Traceback (most recent call last)",
      "\u001b[0;32m<ipython-input-41-fc226f76b0ec>\u001b[0m in \u001b[0;36m<module>\u001b[0;34m\u001b[0m\n\u001b[1;32m      1\u001b[0m \u001b[0;31m# your answer here: no, we can0t add a and b beacause they have different shapes.\u001b[0m\u001b[0;34m\u001b[0m\u001b[0;34m\u001b[0m\u001b[0;34m\u001b[0m\u001b[0m\n\u001b[0;32m----> 2\u001b[0;31m \u001b[0mnp\u001b[0m\u001b[0;34m.\u001b[0m\u001b[0madd\u001b[0m\u001b[0;34m(\u001b[0m\u001b[0ma\u001b[0m\u001b[0;34m,\u001b[0m\u001b[0mb\u001b[0m\u001b[0;34m)\u001b[0m\u001b[0;34m\u001b[0m\u001b[0;34m\u001b[0m\u001b[0m\n\u001b[0m",
      "\u001b[0;31mValueError\u001b[0m: operands could not be broadcast together with shapes (2,3,5) (5,2,3) "
     ]
    }
   ],
   "source": [
    "# your answer here: no, we can0t add a and b beacause they have different shapes.\n",
    "np.add(a,b)"
   ]
  },
  {
   "cell_type": "markdown",
   "metadata": {},
   "source": [
    "#### 9. Transpose *b* so that it has the same structure of *a* (i.e. become a 2x3x5 array). Assign the transposed array to variable *c*."
   ]
  },
  {
   "cell_type": "code",
   "execution_count": 42,
   "metadata": {},
   "outputs": [
    {
     "data": {
      "text/plain": [
       "array([[[1., 1., 1., 1., 1.],\n",
       "        [1., 1., 1., 1., 1.],\n",
       "        [1., 1., 1., 1., 1.]],\n",
       "\n",
       "       [[1., 1., 1., 1., 1.],\n",
       "        [1., 1., 1., 1., 1.],\n",
       "        [1., 1., 1., 1., 1.]]])"
      ]
     },
     "execution_count": 42,
     "metadata": {},
     "output_type": "execute_result"
    }
   ],
   "source": [
    "# your code here\n",
    "c = np.reshape(b, (2, 3, 5))\n",
    "c"
   ]
  },
  {
   "cell_type": "markdown",
   "metadata": {},
   "source": [
    "#### 10. Try to add *a* and *c*. Now it should work. Assign the sum to variable *d*. But why does it work now?"
   ]
  },
  {
   "cell_type": "code",
   "execution_count": 43,
   "metadata": {},
   "outputs": [
    {
     "data": {
      "text/plain": [
       "array([[[1.60269836, 1.97347391, 1.76414466, 1.53102548, 1.35352821],\n",
       "        [1.0153325 , 1.53331695, 1.36105004, 1.76111151, 1.62595392],\n",
       "        [1.5156144 , 1.77076004, 1.24249056, 1.94406171, 1.98917422]],\n",
       "\n",
       "       [[1.44790465, 1.46990159, 1.48156613, 1.92963951, 1.11459211],\n",
       "        [1.10674091, 1.57711027, 1.85275685, 1.84640848, 1.34216641],\n",
       "        [1.63670185, 1.69894884, 1.45114395, 1.09750849, 1.09564564]]])"
      ]
     },
     "execution_count": 43,
     "metadata": {},
     "output_type": "execute_result"
    }
   ],
   "source": [
    "# now we can add a and c because they have the same shape. \n",
    "d = np.add(a,c)\n",
    "d"
   ]
  },
  {
   "cell_type": "markdown",
   "metadata": {},
   "source": [
    "#### 11. Print *a* and *d*. Notice the difference and relation of the two array in terms of the values? Explain."
   ]
  },
  {
   "cell_type": "code",
   "execution_count": 44,
   "metadata": {},
   "outputs": [
    {
     "name": "stdout",
     "output_type": "stream",
     "text": [
      "This is a:\n",
      " [[[0.60269836 0.97347391 0.76414466 0.53102548 0.35352821]\n",
      "  [0.0153325  0.53331695 0.36105004 0.76111151 0.62595392]\n",
      "  [0.5156144  0.77076004 0.24249056 0.94406171 0.98917422]]\n",
      "\n",
      " [[0.44790465 0.46990159 0.48156613 0.92963951 0.11459211]\n",
      "  [0.10674091 0.57711027 0.85275685 0.84640848 0.34216641]\n",
      "  [0.63670185 0.69894884 0.45114395 0.09750849 0.09564564]]]\n",
      "\n",
      "This is d:\n",
      " [[[1.60269836 1.97347391 1.76414466 1.53102548 1.35352821]\n",
      "  [1.0153325  1.53331695 1.36105004 1.76111151 1.62595392]\n",
      "  [1.5156144  1.77076004 1.24249056 1.94406171 1.98917422]]\n",
      "\n",
      " [[1.44790465 1.46990159 1.48156613 1.92963951 1.11459211]\n",
      "  [1.10674091 1.57711027 1.85275685 1.84640848 1.34216641]\n",
      "  [1.63670185 1.69894884 1.45114395 1.09750849 1.09564564]]]\n"
     ]
    }
   ],
   "source": [
    "# The difference between the values of a and d is 1, because the values of c were just ones. We have add this ones to the numbers in a.\n",
    "print(\"This is a:\\n\", a)\n",
    "print()\n",
    "print(\"This is d:\\n\", d)"
   ]
  },
  {
   "cell_type": "markdown",
   "metadata": {},
   "source": [
    "#### 12. Multiply *a* and *c*. Assign the result to *e*."
   ]
  },
  {
   "cell_type": "code",
   "execution_count": 45,
   "metadata": {},
   "outputs": [
    {
     "data": {
      "text/plain": [
       "array([[[0.60269836, 0.97347391, 0.76414466, 0.53102548, 0.35352821],\n",
       "        [0.0153325 , 0.53331695, 0.36105004, 0.76111151, 0.62595392],\n",
       "        [0.5156144 , 0.77076004, 0.24249056, 0.94406171, 0.98917422]],\n",
       "\n",
       "       [[0.44790465, 0.46990159, 0.48156613, 0.92963951, 0.11459211],\n",
       "        [0.10674091, 0.57711027, 0.85275685, 0.84640848, 0.34216641],\n",
       "        [0.63670185, 0.69894884, 0.45114395, 0.09750849, 0.09564564]]])"
      ]
     },
     "execution_count": 45,
     "metadata": {},
     "output_type": "execute_result"
    }
   ],
   "source": [
    "e = np.multiply(a,c)\n",
    "e"
   ]
  },
  {
   "cell_type": "markdown",
   "metadata": {},
   "source": [
    "#### 13. Does *e* equal to *a*? Why or why not?\n"
   ]
  },
  {
   "cell_type": "code",
   "execution_count": 46,
   "metadata": {},
   "outputs": [
    {
     "name": "stdout",
     "output_type": "stream",
     "text": [
      "This is a:\n",
      " [[[0.60269836 0.97347391 0.76414466 0.53102548 0.35352821]\n",
      "  [0.0153325  0.53331695 0.36105004 0.76111151 0.62595392]\n",
      "  [0.5156144  0.77076004 0.24249056 0.94406171 0.98917422]]\n",
      "\n",
      " [[0.44790465 0.46990159 0.48156613 0.92963951 0.11459211]\n",
      "  [0.10674091 0.57711027 0.85275685 0.84640848 0.34216641]\n",
      "  [0.63670185 0.69894884 0.45114395 0.09750849 0.09564564]]]\n",
      "\n",
      "This is e:\n",
      " [[[0.60269836 0.97347391 0.76414466 0.53102548 0.35352821]\n",
      "  [0.0153325  0.53331695 0.36105004 0.76111151 0.62595392]\n",
      "  [0.5156144  0.77076004 0.24249056 0.94406171 0.98917422]]\n",
      "\n",
      " [[0.44790465 0.46990159 0.48156613 0.92963951 0.11459211]\n",
      "  [0.10674091 0.57711027 0.85275685 0.84640848 0.34216641]\n",
      "  [0.63670185 0.69894884 0.45114395 0.09750849 0.09564564]]]\n"
     ]
    }
   ],
   "source": [
    "# a and e are the same because every positive number multiply by 1 is itself, so a = c * a.\n",
    "print(\"This is a:\\n\", a)\n",
    "print()\n",
    "print(\"This is e:\\n\", e)"
   ]
  },
  {
   "cell_type": "markdown",
   "metadata": {},
   "source": [
    "#### 14. Identify the max, min, and mean values in *d*. Assign those values to variables *d_max*, *d_min* and *d_mean*."
   ]
  },
  {
   "cell_type": "code",
   "execution_count": 47,
   "metadata": {},
   "outputs": [
    {
     "name": "stdout",
     "output_type": "stream",
     "text": [
      "This is d:\n",
      " [[[1.60269836 1.97347391 1.76414466 1.53102548 1.35352821]\n",
      "  [1.0153325  1.53331695 1.36105004 1.76111151 1.62595392]\n",
      "  [1.5156144  1.77076004 1.24249056 1.94406171 1.98917422]]\n",
      "\n",
      " [[1.44790465 1.46990159 1.48156613 1.92963951 1.11459211]\n",
      "  [1.10674091 1.57711027 1.85275685 1.84640848 1.34216641]\n",
      "  [1.63670185 1.69894884 1.45114395 1.09750849 1.09564564]]]\n",
      "\n",
      "Max value of d is: 1.98917422158341\n",
      "\n",
      "Min value of d is: 1.0153325043494292\n",
      "\n",
      "The mean of d is: 1.5377490722289062\n"
     ]
    }
   ],
   "source": [
    "# your code here\n",
    "d_max = np.max(d)\n",
    "d_min = np.min(d)\n",
    "d_mean = np.mean(d)\n",
    "\n",
    "print(\"This is d:\\n\", d)\n",
    "print()\n",
    "print(\"Max value of d is:\", d_max)\n",
    "print()\n",
    "print(\"Min value of d is:\", d_min)\n",
    "print()\n",
    "print(\"The mean of d is:\", d_mean)"
   ]
  },
  {
   "cell_type": "markdown",
   "metadata": {},
   "source": [
    "#### 15. Now we want to label the values in *d*. First create an empty array *f* with the same shape (i.e. 2x3x5) as *d* using `np.empty`.\n"
   ]
  },
  {
   "cell_type": "code",
   "execution_count": 48,
   "metadata": {},
   "outputs": [
    {
     "name": "stdout",
     "output_type": "stream",
     "text": [
      "[[[1.60269836 1.97347391 1.76414466 1.53102548 1.35352821]\n",
      "  [1.0153325  1.53331695 1.36105004 1.76111151 1.62595392]\n",
      "  [1.5156144  1.77076004 1.24249056 1.94406171 1.98917422]]\n",
      "\n",
      " [[1.44790465 1.46990159 1.48156613 1.92963951 1.11459211]\n",
      "  [1.10674091 1.57711027 1.85275685 1.84640848 1.34216641]\n",
      "  [1.63670185 1.69894884 1.45114395 1.09750849 1.09564564]]]\n",
      "\n",
      "[[[1.60269836 1.97347391 1.76414466 1.53102548 1.35352821]\n",
      "  [1.0153325  1.53331695 1.36105004 1.76111151 1.62595392]\n",
      "  [1.5156144  1.77076004 1.24249056 1.94406171 1.98917422]]\n",
      "\n",
      " [[1.44790465 1.46990159 1.48156613 1.92963951 1.11459211]\n",
      "  [1.10674091 1.57711027 1.85275685 1.84640848 1.34216641]\n",
      "  [1.63670185 1.69894884 1.45114395 1.09750849 1.09564564]]]\n"
     ]
    }
   ],
   "source": [
    "f = np.empty((2,3,5))\n",
    "print(f)\n",
    "print()\n",
    "print(d)"
   ]
  },
  {
   "cell_type": "markdown",
   "metadata": {},
   "source": [
    "#### 16. Populate the values in *f*. \n",
    "\n",
    "For each value in *d*, if it's larger than *d_min* but smaller than *d_mean*, assign 25 to the corresponding value in *f*. If a value in *d* is larger than *d_mean* but smaller than *d_max*, assign 75 to the corresponding value in *f*. If a value equals to *d_mean*, assign 50 to the corresponding value in *f*. Assign 0 to the corresponding value(s) in *f* for *d_min* in *d*. Assign 100 to the corresponding value(s) in *f* for *d_max* in *d*. In the end, f should have only the following values: 0, 25, 50, 75, and 100.\n",
    "\n",
    "**Note**: you don't have to use Numpy in this question."
   ]
  },
  {
   "cell_type": "code",
   "execution_count": 93,
   "metadata": {},
   "outputs": [
    {
     "name": "stdout",
     "output_type": "stream",
     "text": [
      "[[[1.60269836 1.97347391 1.76414466 1.53102548 1.35352821]\n",
      "  [1.0153325  1.53331695 1.36105004 1.76111151 1.62595392]\n",
      "  [1.5156144  1.77076004 1.24249056 1.94406171 1.98917422]]\n",
      "\n",
      " [[1.44790465 1.46990159 1.48156613 1.92963951 1.11459211]\n",
      "  [1.10674091 1.57711027 1.85275685 1.84640848 1.34216641]\n",
      "  [1.63670185 1.69894884 1.45114395 1.09750849 1.09564564]]]\n"
     ]
    }
   ],
   "source": [
    "    for value in d:\n",
    "        if value.any() > d_min and value < d_mean:\n",
    "            value = 25\n",
    "            value.append(f)\n",
    "\n",
    "        if value.any() > d_mean and value < d_max:\n",
    "            value = 75\n",
    "            value.append(f)\n",
    "\n",
    "        if value.any() == d_mean:\n",
    "            value = 50\n",
    "            values.append(f)\n",
    "\n",
    "        if value.any() == d_min:\n",
    "            value = 0\n",
    "            value.append(f)\n",
    "\n",
    "        if value.any() == d_max:\n",
    "            value = 100\n",
    "            value.append(f)\n",
    "    \n",
    "print(f)"
   ]
  },
  {
   "cell_type": "markdown",
   "metadata": {},
   "source": [
    "#### 17. Print *d* and *f*. Do you have your expected *f*?\n",
    "For instance, if your *d* is:\n",
    "```python\n",
    "[[[1.85836099, 1.67064465, 1.62576044, 1.40243961, 1.88454931],\n",
    "[1.75354326, 1.69403643, 1.36729252, 1.61415071, 1.12104981],\n",
    "[1.72201435, 1.1862918 , 1.87078449, 1.7726778 , 1.88180042]],\n",
    "[[1.44747908, 1.31673383, 1.02000951, 1.52218947, 1.97066381],\n",
    "[1.79129243, 1.74983003, 1.96028037, 1.85166831, 1.65450881],\n",
    "[1.18068344, 1.9587381 , 1.00656599, 1.93402165, 1.73514584]]]\n",
    "```\n",
    "Your *f* should be:\n",
    "```python\n",
    "[[[ 75.,  75.,  75.,  25.,  75.],\n",
    "[ 75.,  75.,  25.,  25.,  25.],\n",
    "[ 75.,  25.,  75.,  75.,  75.]],\n",
    "[[ 25.,  25.,  25.,  25., 100.],\n",
    "[ 75.,  75.,  75.,  75.,  75.],\n",
    "[ 25.,  75.,   0.,  75.,  75.]]]\n",
    "```"
   ]
  },
  {
   "cell_type": "code",
   "execution_count": null,
   "metadata": {},
   "outputs": [],
   "source": [
    "# your code here"
   ]
  },
  {
   "cell_type": "markdown",
   "metadata": {},
   "source": [
    "#### 18. Bonus question: instead of using numbers (i.e. 0, 25, 50, 75, and 100), use string values  (\"A\", \"B\", \"C\", \"D\", and \"E\") to label the array elements. For the example above, the expected result is:\n",
    "\n",
    "```python\n",
    "[[[ 'D',  'D',  'D',  'B',  'D'],\n",
    "[ 'D',  'D',  'B',  'B',  'B'],\n",
    "[ 'D',  'B',  'D',  'D',  'D']],\n",
    "[[ 'B',  'B',  'B',  'B',  'E'],\n",
    "[ 'D',  'D',  'D',  'D',  'D'],\n",
    "[ 'B',  'D',   'A',  'D', 'D']]]\n",
    "```\n",
    "**Note**: you don't have to use Numpy in this question."
   ]
  },
  {
   "cell_type": "code",
   "execution_count": null,
   "metadata": {},
   "outputs": [],
   "source": [
    "# your code here"
   ]
  }
 ],
 "metadata": {
  "kernelspec": {
   "display_name": "Python [conda env:ironhack_env]",
   "language": "python",
   "name": "conda-env-ironhack_env-py"
  },
  "language_info": {
   "codemirror_mode": {
    "name": "ipython",
    "version": 3
   },
   "file_extension": ".py",
   "mimetype": "text/x-python",
   "name": "python",
   "nbconvert_exporter": "python",
   "pygments_lexer": "ipython3",
   "version": "3.8.5"
  }
 },
 "nbformat": 4,
 "nbformat_minor": 4
}
