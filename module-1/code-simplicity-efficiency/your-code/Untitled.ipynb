{
 "cells": [
  {
   "cell_type": "code",
   "execution_count": null,
   "metadata": {},
   "outputs": [],
   "source": [
    "#test\n",
    "def longest_side_triangle(max_len):\n",
    "    return [[a, b, c] for i in range(max_len) if c**2 == a**2 + b**2]\n",
    "\n",
    "max_len = input(\"What is the maximal length of the triangle side? Enter a number: \")\n",
    "print(\"The longest side possible is \" + str(longest_side_triangle(int(max_len))))"
   ]
  }
 ],
 "metadata": {
  "kernelspec": {
   "display_name": "Python [conda env:ironhack_env]",
   "language": "python",
   "name": "conda-env-ironhack_env-py"
  },
  "language_info": {
   "codemirror_mode": {
    "name": "ipython",
    "version": 3
   },
   "file_extension": ".py",
   "mimetype": "text/x-python",
   "name": "python",
   "nbconvert_exporter": "python",
   "pygments_lexer": "ipython3",
   "version": "3.8.5"
  }
 },
 "nbformat": 4,
 "nbformat_minor": 4
}
