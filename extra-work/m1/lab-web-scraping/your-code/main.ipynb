{
 "cells": [
  {
   "cell_type": "markdown",
   "metadata": {},
   "source": [
    "# Web Scraping Lab\n",
    "\n",
    "You will find in this notebook some scrapy exercises to practise your scraping skills.\n",
    "\n",
    "**Tips:**\n",
    "\n",
    "- Check the response status code for each request to ensure you have obtained the intended content.\n",
    "- Print the response text in each request to understand the kind of info you are getting and its format.\n",
    "- Check for patterns in the response text to extract the data/info requested in each question.\n",
    "- Visit the urls below and take a look at their source code through Chrome DevTools. You'll need to identify the html tags, special class names, etc used in the html content you are expected to extract.\n",
    "\n",
    "**Resources**:\n",
    "- [Requests library](http://docs.python-requests.org/en/master/#the-user-guide)\n",
    "- [Beautiful Soup Doc](https://www.crummy.com/software/BeautifulSoup/bs4/doc/)\n",
    "- [Urllib](https://docs.python.org/3/library/urllib.html#module-urllib)\n",
    "- [re lib](https://docs.python.org/3/library/re.html)\n",
    "- [lxml lib](https://lxml.de/)\n",
    "- [Scrapy](https://scrapy.org/)\n",
    "- [List of HTTP status codes](https://en.wikipedia.org/wiki/List_of_HTTP_status_codes)\n",
    "- [HTML basics](http://www.simplehtmlguide.com/cheatsheet.php)\n",
    "- [CSS basics](https://www.cssbasics.com/#page_start)"
   ]
  },
  {
   "cell_type": "markdown",
   "metadata": {},
   "source": [
    "#### Below are the libraries and modules you may need. `requests`,  `BeautifulSoup` and `pandas` are already imported for you. If you prefer to use additional libraries feel free to do it."
   ]
  },
  {
   "cell_type": "code",
   "execution_count": 1,
   "metadata": {},
   "outputs": [],
   "source": [
    "import requests\n",
    "from bs4 import BeautifulSoup\n",
    "import pandas as pd\n",
    "import re"
   ]
  },
  {
   "cell_type": "markdown",
   "metadata": {},
   "source": [
    "#### Download, parse (using BeautifulSoup), and print the content from the Trending Developers page from GitHub:"
   ]
  },
  {
   "cell_type": "code",
   "execution_count": 2,
   "metadata": {},
   "outputs": [],
   "source": [
    "# This is the url you will scrape in this exercise\n",
    "url = 'https://github.com/trending/developers'"
   ]
  },
  {
   "cell_type": "code",
   "execution_count": 3,
   "metadata": {},
   "outputs": [],
   "source": [
    "# scraping web.\n",
    "html = requests.get(url).content\n",
    "soup = BeautifulSoup(html, 'html.parser')"
   ]
  },
  {
   "cell_type": "markdown",
   "metadata": {},
   "source": [
    "#### Display the names of the trending developers retrieved in the previous step.\n",
    "\n",
    "Your output should be a Python list of developer names. Each name should not contain any html tag.\n",
    "\n",
    "**Instructions:**\n",
    "\n",
    "1. Find out the html tag and class names used for the developer names. You can achieve this using Chrome DevTools.\n",
    "\n",
    "1. Use BeautifulSoup to extract all the html elements that contain the developer names.\n",
    "\n",
    "1. Use string manipulation techniques to replace whitespaces and linebreaks (i.e. `\\n`) in the *text* of each html element. Use a list to store the clean names.\n",
    "\n",
    "1. Print the list of names.\n",
    "\n",
    "Your output should look like below:\n",
    "\n",
    "```\n",
    "['trimstray (@trimstray)',\n",
    " 'joewalnes (JoeWalnes)',\n",
    " 'charlax (Charles-AxelDein)',\n",
    " 'ForrestKnight (ForrestKnight)',\n",
    " 'revery-ui (revery-ui)',\n",
    " 'alibaba (Alibaba)',\n",
    " 'Microsoft (Microsoft)',\n",
    " 'github (GitHub)',\n",
    " 'facebook (Facebook)',\n",
    " 'boazsegev (Bo)',\n",
    " 'google (Google)',\n",
    " 'cloudfetch',\n",
    " 'sindresorhus (SindreSorhus)',\n",
    " 'tensorflow',\n",
    " 'apache (TheApacheSoftwareFoundation)',\n",
    " 'DevonCrawford (DevonCrawford)',\n",
    " 'ARMmbed (ArmMbed)',\n",
    " 'vuejs (vuejs)',\n",
    " 'fastai (fast.ai)',\n",
    " 'QiShaoXuan (Qi)',\n",
    " 'joelparkerhenderson (JoelParkerHenderson)',\n",
    " 'torvalds (LinusTorvalds)',\n",
    " 'CyC2018',\n",
    " 'komeiji-satori (神楽坂覚々)',\n",
    " 'script-8']\n",
    " ```"
   ]
  },
  {
   "cell_type": "code",
   "execution_count": 4,
   "metadata": {},
   "outputs": [],
   "source": [
    "# obtaining the data\n",
    "table = soup.find_all('div', {'class': 'explore-pjax-container container-lg p-responsive pt-6'})[0]\n",
    "table_users = table.find_all('article')\n",
    "raw_info_users = [info.text for info in table_users]"
   ]
  },
  {
   "cell_type": "code",
   "execution_count": 5,
   "metadata": {},
   "outputs": [
    {
     "data": {
      "text/plain": [
       "['Anthony Sottile',\n",
       " 'Michael Lynch',\n",
       " 'Michał Krassowski',\n",
       " 'Mladen Macanović',\n",
       " 'Arvid Norberg',\n",
       " 'Dries Vints',\n",
       " 'Blake Blackshear',\n",
       " 'Miek Gieben',\n",
       " 'Pierre Krieger',\n",
       " 'isaacs',\n",
       " 'Julien Danjou',\n",
       " 'Wei Wang',\n",
       " 'Henrik Rydgård',\n",
       " 'Michael Waskom',\n",
       " 'Stephen Celis',\n",
       " 'pedrobern',\n",
       " 'Guillaume Gomez',\n",
       " 'Michael Teeuw',\n",
       " 'Kévin Dunglas',\n",
       " 'Filippo Valsorda',\n",
       " 'Diamond Lewis',\n",
       " 'Felix Angelov',\n",
       " 'van Hauser',\n",
       " 'snipe',\n",
       " 'Himanshu Mishra']"
      ]
     },
     "execution_count": 5,
     "metadata": {},
     "output_type": "execute_result"
    }
   ],
   "source": [
    "# deleting spaces\n",
    "users_without_n = [re.sub(r'\\n', '', x) for x in raw_info_users]\n",
    "\n",
    "# deleting list elements not useful\n",
    "regex = re.compile(r'Popular repo*')\n",
    "users_clean = [i for i in users_without_n if not regex.match(i)]\n",
    "\n",
    "# creating a list to get just the second element (name of user)\n",
    "users_split = [user.split('       ') for user in users_clean]\n",
    "users_names = [el[1] for el in users_split]\n",
    "\n",
    "# deleting extra spaces at the beggining\n",
    "users_names_def = [x.split('      ') for x in users_names]\n",
    "users_names_def_2 = [el[1] for el in users_names_def]\n",
    "users_names_def_2"
   ]
  },
  {
   "cell_type": "markdown",
   "metadata": {},
   "source": [
    "#### Display the trending Python repositories in GitHub.\n",
    "\n",
    "The steps to solve this problem is similar to the previous one except that you need to find out the repository names instead of developer names."
   ]
  },
  {
   "cell_type": "code",
   "execution_count": 6,
   "metadata": {},
   "outputs": [],
   "source": [
    "# This is the url you will scrape in this exercise\n",
    "url_2 = 'https://github.com/trending/python?since=daily'"
   ]
  },
  {
   "cell_type": "code",
   "execution_count": 7,
   "metadata": {},
   "outputs": [],
   "source": [
    "# scrapping \n",
    "html_2 = requests.get(url_2).content\n",
    "soup_2 = BeautifulSoup(html_2, 'html.parser')"
   ]
  },
  {
   "cell_type": "code",
   "execution_count": 8,
   "metadata": {},
   "outputs": [],
   "source": [
    "# obtaining the data\n",
    "table_2 = soup_2.find_all('article', {'class': 'Box-row'})\n",
    "raw_info_repo = [info.text for info in table_2]"
   ]
  },
  {
   "cell_type": "code",
   "execution_count": 9,
   "metadata": {},
   "outputs": [
    {
     "data": {
      "text/plain": [
       "[' explosion /      spaCy 💫 Industrial-strength Natural Language Processing (NLP) in Python    Python',\n",
       " ' doino-gretchenliev /      revolut-stocks Python',\n",
       " ' TheAlgorithms /      Python',\n",
       " ' MathInspector /      MathInspector',\n",
       " ' swisskyrepo /      PayloadsAllTheThings',\n",
       " ' dupontgu /      retro-ipod-spotify-client',\n",
       " ' alibaba /      taobao-iphone-device',\n",
       " ' 3b1b /      manim',\n",
       " ' minimaxir /      big-list-of-naughty-strings',\n",
       " ' sdushantha /      wifi-password',\n",
       " ' tensortrade-org /      tensortrade',\n",
       " ' davidbombal /      red-python-scripts Python',\n",
       " \" HashPals /      Name-That-Hash 🔗 Don't know what type of hash it is? Name That Hash will name that hash type! 🤖 Identify MD5, SHA256 and 3000+ other hashes ☄ Comes with a neat web app 🔥Python\",\n",
       " ' tiangolo /      fastapi',\n",
       " ' PeterL1n /      BackgroundMattingV2',\n",
       " ' yanshengjia /      ml-road',\n",
       " ' optas /      artemis',\n",
       " ' huggingface /      transformers ',\n",
       " ' ultrafunkamsterdam /      undetected-chromedriver',\n",
       " ' y1ndan /      genshin-impact-helper',\n",
       " ' ZHKKKe /      MODNet',\n",
       " ' numpy /      numpy',\n",
       " ' owid /      covid-19-data',\n",
       " ' aws /      aws-cli',\n",
       " ' vt-vl-lab /      FGVC']"
      ]
     },
     "execution_count": 9,
     "metadata": {},
     "output_type": "execute_result"
    }
   ],
   "source": [
    "# deleting spaces\n",
    "repo_without_n = [re.sub(r'\\n', '', x) for x in raw_info_repo]\n",
    "\n",
    "# creating a list to get just the second element (name of user)\n",
    "repo_split = [user.split('       ') for user in repo_without_n]\n",
    "repo_names = [el[2] for el in repo_split]\n",
    "\n",
    "# cleaning the names\n",
    "repo_names_clean = [re.sub(r'🤗Transformers: State-of-the-art Natural Language Processing for Pytorch and TensorFlow 2.0.    Python', '', x) for x in repo_names]\n",
    "repo_names_clean_2 = [re.sub(r' 💬 Open source machine learning framework to automate text- and voice-based conversations: NLU, dialogue management, connect to Slack, Facebook, and more - Create chatbots and voice assistants    Python', '', x) for x in repo_names_clean]\n",
    "repo_names_clean_2"
   ]
  },
  {
   "cell_type": "code",
   "execution_count": 10,
   "metadata": {},
   "outputs": [
    {
     "data": {
      "text/plain": [
       "['explosion/spaCy💫Industrial-strengthNaturalLanguageProcessing(NLP)inPythonPython',\n",
       " 'doino-gretchenliev/revolut-stocksPython',\n",
       " 'TheAlgorithms/Python',\n",
       " 'MathInspector/MathInspector',\n",
       " 'swisskyrepo/PayloadsAllTheThings',\n",
       " 'dupontgu/retro-ipod-spotify-client',\n",
       " 'alibaba/taobao-iphone-device',\n",
       " '3b1b/manim',\n",
       " 'minimaxir/big-list-of-naughty-strings',\n",
       " 'sdushantha/wifi-password',\n",
       " 'tensortrade-org/tensortrade',\n",
       " 'davidbombal/red-python-scriptsPython',\n",
       " \"HashPals/Name-That-Hash🔗Don'tknowwhattypeofhashitis?NameThatHashwillnamethathashtype!🤖IdentifyMD5,SHA256and3000+otherhashes☄Comeswithaneatwebapp🔥Python\",\n",
       " 'tiangolo/fastapi',\n",
       " 'PeterL1n/BackgroundMattingV2',\n",
       " 'yanshengjia/ml-road',\n",
       " 'optas/artemis',\n",
       " 'huggingface/transformers',\n",
       " 'ultrafunkamsterdam/undetected-chromedriver',\n",
       " 'y1ndan/genshin-impact-helper',\n",
       " 'ZHKKKe/MODNet',\n",
       " 'numpy/numpy',\n",
       " 'owid/covid-19-data',\n",
       " 'aws/aws-cli',\n",
       " 'vt-vl-lab/FGVC']"
      ]
     },
     "execution_count": 10,
     "metadata": {},
     "output_type": "execute_result"
    }
   ],
   "source": [
    "repo_names_def = [re.sub(r'\\s', '', x) for x in repo_names_clean_2]\n",
    "repo_names_def"
   ]
  },
  {
   "cell_type": "markdown",
   "metadata": {},
   "source": [
    "#### Display all the image links from Walt Disney wikipedia page."
   ]
  },
  {
   "cell_type": "code",
   "execution_count": 11,
   "metadata": {},
   "outputs": [],
   "source": [
    "# This is the url you will scrape in this exercise\n",
    "url_3 = 'https://en.wikipedia.org/wiki/Walt_Disney'"
   ]
  },
  {
   "cell_type": "code",
   "execution_count": 12,
   "metadata": {},
   "outputs": [],
   "source": [
    "# scraping wikipedia\n",
    "html_3 = requests.get(url_3).content\n",
    "soup_3 = BeautifulSoup(html_3, 'html.parser')"
   ]
  },
  {
   "cell_type": "code",
   "execution_count": 13,
   "metadata": {},
   "outputs": [
    {
     "data": {
      "text/plain": [
       "['/wiki/File:Walt_Disney_1946.JPG',\n",
       " '/wiki/File:Walt_Disney_envelope_ca._1921.jpg',\n",
       " '/wiki/File:Walt_Disney_envelope_ca._1921.jpg',\n",
       " '/wiki/File:Trolley_Troubles_poster.jpg',\n",
       " '/wiki/File:Trolley_Troubles_poster.jpg',\n",
       " '/wiki/File:Walt_Disney_and_his_cartoon_creation_%22Mickey_Mouse%22_-_National_Board_of_Review_Magazine.jpg',\n",
       " '/wiki/File:Walt_Disney_and_his_cartoon_creation_%22Mickey_Mouse%22_-_National_Board_of_Review_Magazine.jpg',\n",
       " '/wiki/File:Steamboat-willie.jpg',\n",
       " '/wiki/File:Steamboat-willie.jpg',\n",
       " '/wiki/File:Walt_Disney_1935.jpg',\n",
       " '/wiki/File:Walt_Disney_1935.jpg',\n",
       " '/wiki/File:Walt_Disney_Snow_white_1937_trailer_screenshot_(13).jpg',\n",
       " '/wiki/File:Walt_Disney_Snow_white_1937_trailer_screenshot_(13).jpg',\n",
       " '/wiki/File:Disney_drawing_goofy.jpg',\n",
       " '/wiki/File:Disney_drawing_goofy.jpg',\n",
       " '/wiki/File:DisneySchiphol1951.jpg',\n",
       " '/wiki/File:DisneySchiphol1951.jpg',\n",
       " '/wiki/File:WaltDisneyplansDisneylandDec1954.jpg',\n",
       " '/wiki/File:WaltDisneyplansDisneylandDec1954.jpg',\n",
       " '/wiki/File:Walt_disney_portrait_right.jpg',\n",
       " '/wiki/File:Walt_disney_portrait_right.jpg',\n",
       " '/wiki/File:Walt_Disney_Grave.JPG',\n",
       " '/wiki/File:Walt_Disney_Grave.JPG',\n",
       " '/wiki/File:Roy_O._Disney_with_Company_at_Press_Conference.jpg',\n",
       " '/wiki/File:Roy_O._Disney_with_Company_at_Press_Conference.jpg',\n",
       " '/wiki/File:Disney_Display_Case.JPG',\n",
       " '/wiki/File:Disney_Display_Case.JPG',\n",
       " '/wiki/File:Disney1968.jpg',\n",
       " '/wiki/File:Disney1968.jpg',\n",
       " '/wiki/File:Magic_Kingdom_castle.jpg']"
      ]
     },
     "execution_count": 13,
     "metadata": {},
     "output_type": "execute_result"
    }
   ],
   "source": [
    "# getting the info that we need\n",
    "table_3 = soup_3.find_all('div', {'class': 'thumbinner'})\n",
    "list_links = [a['href'] for a in soup_3.find_all('a', href=True)]\n",
    "\n",
    "# filtering the .png images mayus and minus\n",
    "image_links = [x for x in list_links if x.endswith('.jpg') | x.endswith('.JPG')]\n",
    "image_links"
   ]
  },
  {
   "cell_type": "markdown",
   "metadata": {},
   "source": [
    "#### Retrieve an arbitary Wikipedia page of \"Python\" and create a list of links on that page."
   ]
  },
  {
   "cell_type": "code",
   "execution_count": 14,
   "metadata": {},
   "outputs": [],
   "source": [
    "# This is the url you will scrape in this exercise\n",
    "url_4 ='https://en.wikipedia.org/wiki/PYTHON' "
   ]
  },
  {
   "cell_type": "code",
   "execution_count": 15,
   "metadata": {},
   "outputs": [
    {
     "data": {
      "text/plain": [
       "['https://en.wikipedia.org/w/index.php?title=PYTHON&oldid=1002462001',\n",
       " 'https://donate.wikimedia.org/wiki/Special:FundraiserRedirector?utm_source=donate&utm_medium=sidebar&utm_campaign=C13_en.wikipedia.org&uselang=en',\n",
       " 'https://www.wikidata.org/wiki/Special:EntityPage/Q29467582',\n",
       " 'https://fr.wikipedia.org/wiki/PYTHON',\n",
       " 'https://www.wikidata.org/wiki/Special:EntityPage/Q29467582#sitelinks-wikipedia',\n",
       " 'https://foundation.wikimedia.org/wiki/Privacy_policy',\n",
       " 'https://www.mediawiki.org/wiki/Special:MyLanguage/How_to_contribute',\n",
       " 'https://stats.wikimedia.org/#/en.wikipedia.org',\n",
       " 'https://foundation.wikimedia.org/wiki/Cookie_statement',\n",
       " 'https://wikimediafoundation.org/',\n",
       " 'https://www.mediawiki.org/']"
      ]
     },
     "execution_count": 15,
     "metadata": {},
     "output_type": "execute_result"
    }
   ],
   "source": [
    "html_4 = requests.get(url_4).content\n",
    "soup_4 = BeautifulSoup(html_4, 'html.parser')\n",
    "\n",
    "# getting the info that about the page\n",
    "table_4 = soup_4.find_all('div', {'class': 'mw-parser-output'})\n",
    "list_links_python = [a['href'] for a in soup_4.find_all('a', href=True)]\n",
    "\n",
    "# filtering the links that start by 'https'\n",
    "python_links = [x for x in list_links_python if x.startswith('https')]\n",
    "python_links"
   ]
  },
  {
   "cell_type": "markdown",
   "metadata": {},
   "source": [
    "#### Find the number of titles that have changed in the United States Code since its last release point."
   ]
  },
  {
   "cell_type": "code",
   "execution_count": 16,
   "metadata": {},
   "outputs": [],
   "source": [
    "# This is the url you will scrape in this exercise\n",
    "url_5 = 'http://uscode.house.gov/download/download.shtml'"
   ]
  },
  {
   "cell_type": "code",
   "execution_count": 17,
   "metadata": {},
   "outputs": [],
   "source": [
    "# scrapping\n",
    "html_5 = requests.get(url_5).content\n",
    "soup_5 = BeautifulSoup(html_5, 'html.parser')\n",
    "\n",
    "# getting the info that about the page\n",
    "table_5 = soup_5.find_all('div', {'class': 'uscitemlist'})\n",
    "raw_info_5 = [info.text for info in table_5]\n",
    "\n",
    "# cleaning text and extract Titles.\n",
    "info5_without_spaces = [re.sub(r'\\n', '', x) for x in raw_info_5]\n",
    "info5_split = info5_without_spaces[0].split('     ')\n",
    "info5_titles = [x for x in info5_split if x.startswith('Title') | x.startswith('   Title')]"
   ]
  },
  {
   "cell_type": "code",
   "execution_count": 18,
   "metadata": {},
   "outputs": [
    {
     "data": {
      "text/plain": [
       "['Title 6 - Domestic Security',\n",
       " 'Title 10 - Armed Forces ٭',\n",
       " 'Title 15 - Commerce and Trade',\n",
       " 'Title 20 - Education',\n",
       " 'Title 28 - Judiciary and Judicial Procedure ٭',\n",
       " 'Title 31 - Money and Finance ٭',\n",
       " 'Title 33 - Navigation and Navigable Waters',\n",
       " 'Title 36 - Patriotic and National Observances, Ceremonies, and Organizations ٭',\n",
       " 'Title 37 - Pay and Allowances of the Uniformed Services ٭',\n",
       " \"Title 38 - Veterans' Benefits ٭\",\n",
       " 'Title 40 - Public Buildings, Property, and Works ٭',\n",
       " 'Title 46 - Shipping ٭']"
      ]
     },
     "execution_count": 18,
     "metadata": {},
     "output_type": "execute_result"
    }
   ],
   "source": [
    "# extracting the elements that are in bold in the web\n",
    "index = [5, 9, 14, 19, 27, 30, 32, 35, 36, 37, 39, 45]\n",
    "titles_list_clean = [info5_titles[i] for i in index]\n",
    "titles_list_clean"
   ]
  },
  {
   "cell_type": "markdown",
   "metadata": {},
   "source": [
    "#### Find a Python list with the top ten FBI's Most Wanted names."
   ]
  },
  {
   "cell_type": "code",
   "execution_count": 19,
   "metadata": {},
   "outputs": [],
   "source": [
    "# This is the url you will scrape in this exercise\n",
    "url_6 = 'https://www.fbi.gov/wanted/topten'"
   ]
  },
  {
   "cell_type": "code",
   "execution_count": 20,
   "metadata": {},
   "outputs": [],
   "source": [
    "html_6 = requests.get(url_6).content\n",
    "soup_6 = BeautifulSoup(html_6, 'html.parser')"
   ]
  },
  {
   "cell_type": "code",
   "execution_count": 21,
   "metadata": {},
   "outputs": [
    {
     "data": {
      "text/plain": [
       "['ALEJANDRO ROSALES CASTILLO',\n",
       " 'ARNOLDO JIMENEZ',\n",
       " 'JASON DEREK BROWN',\n",
       " 'ALEXIS FLORES',\n",
       " 'JOSE RODOLFO VILLARREAL-HERNANDEZ',\n",
       " 'EUGENE PALMER',\n",
       " 'RAFAEL CARO-QUINTERO',\n",
       " 'ROBERT WILLIAM FISHER',\n",
       " 'BHADRESHKUMAR CHETANBHAI PATEL',\n",
       " 'YASER ABDEL SAID']"
      ]
     },
     "execution_count": 21,
     "metadata": {},
     "output_type": "execute_result"
    }
   ],
   "source": [
    "# getting the info that about the page\n",
    "table_6 = soup_6.find_all('div', {'class': 'query-results pat-pager'})\n",
    "raw_info_6 = [info.text for info in table_6]\n",
    "\n",
    "# extracting just the names\n",
    "info6_without_n = [x.replace('\\n', ' ') for x in raw_info_6]\n",
    "list_names = [x.split('     ') for x in info6_without_n]\n",
    "\n",
    "# cleaning the list of FBI's Most Wanted names.\n",
    "list_names[0].remove('   Results: 10 Items')\n",
    "list_names[0].remove('1 - 10 of 10 Results  ')\n",
    "names_cleaned = [str(x).replace('   ', '') for x in list_names[0]]\n",
    "fbi_most_wanted = [re.sub('^\\s', '', x) for x in names_cleaned]\n",
    "fbi_most_wanted"
   ]
  },
  {
   "cell_type": "markdown",
   "metadata": {},
   "source": [
    "####  Display the 20 latest earthquakes info (date, time, latitude, longitude and region name) by the EMSC as a pandas dataframe."
   ]
  },
  {
   "cell_type": "code",
   "execution_count": 22,
   "metadata": {},
   "outputs": [],
   "source": [
    "# This is the url you will scrape in this exercise\n",
    "url_7 = 'https://www.emsc-csem.org/Earthquake/'"
   ]
  },
  {
   "cell_type": "code",
   "execution_count": 23,
   "metadata": {},
   "outputs": [
    {
     "data": {
      "text/plain": [
       "['59IIIearthquake2021-02-0218:12:44.917min ago45.46N16.02E2ML2.7CROATIA2021-02-02 18:19',\n",
       " 'earthquake2021-02-0217:50:36.939min ago37.20N3.73W6ML2.0SPAIN2021-02-02 18:08',\n",
       " 'earthquake2021-02-0217:36:53.853min ago44.87N9.83E5ML2.5NORTHERN ITALY2021-02-02 17:55',\n",
       " 'earthquake2021-02-0217:31:07.358min ago38.98N26.03E2ML2.3NEAR THE COAST OF WESTERN TURKEY2021-02-02 18:16',\n",
       " 'earthquake2021-02-0217:27:18.01hr 02min ago0.49N99.86E117 M3.4NORTHERN SUMATRA, INDONESIA2021-02-02 17:35',\n",
       " 'earthquake2021-02-0217:19:08.31hr 10min ago37.22S179.14E12M 3.7OFF E. COAST OF N. ISLAND, N.Z.2021-02-02 17:25',\n",
       " 'earthquake2021-02-0216:58:25.21hr 31min ago40.38N124.48W13Md2.5OFFSHORE NORTHERN CALIFORNIA2021-02-02 17:00',\n",
       " 'earthquake2021-02-0216:41:27.01hr 48min ago37.23N3.69W7ML1.5SPAIN2021-02-02 16:46',\n",
       " 'earthquake2021-02-0215:57:37.02hr 32min ago5.15N127.51E130 M3.3PHILIPPINE ISLANDS REGION2021-02-02 16:10',\n",
       " 'earthquake2021-02-0215:43:02.62hr 47min ago44.05S169.48E3M 3.6SOUTH ISLAND OF NEW ZEALAND2021-02-02 15:45',\n",
       " 'earthquake2021-02-0215:30:33.02hr 59min ago2.04N96.35E10 M3.5SIMEULUE, INDONESIA2021-02-02 15:35',\n",
       " 'earthquake2021-02-0215:22:17.53hr 07min ago37.21N3.73W5ML2.3SPAIN2021-02-02 15:34',\n",
       " 'earthquake2021-02-0215:03:13.53hr 26min ago33.39N116.44W11Ml2.2SOUTHERN CALIFORNIA2021-02-02 15:05',\n",
       " 'earthquake2021-02-0214:54:51.13hr 35min ago38.41N23.82E4ML2.8GREECE2021-02-02 16:48',\n",
       " 'earthquake2021-02-0214:45:00.53hr 45min ago4.12N126.41E40mb4.7KEPULAUAN TALAUD, INDONESIA2021-02-02 16:23',\n",
       " 'earthquake2021-02-0214:37:40.13hr 52min ago4.07N126.59E52mb5.0KEPULAUAN TALAUD, INDONESIA2021-02-02 16:10',\n",
       " 'earthquake2021-02-0214:06:35.44hr 23min ago39.12N36.03E7ML2.0CENTRAL TURKEY2021-02-02 14:26',\n",
       " 'earthquake2021-02-0213:48:03.74hr 42min ago37.21N3.71W3ML1.6SPAIN2021-02-02 14:01',\n",
       " 'earthquake2021-02-0213:42:16.04hr 47min ago2.44N126.95E17 M3.1MOLUCCA SEA2021-02-02 13:56',\n",
       " 'earthquake2021-02-0213:33:32.14hr 56min ago19.28N67.20W31ML2.5PUERTO RICO REGION2021-02-02 14:19',\n",
       " 'earthquake2021-02-0213:28:28.65hr 01min ago39.13N36.03E7ML2.6CENTRAL TURKEY2021-02-02 16:09',\n",
       " 'earthquake2021-02-0213:22:43.65hr 07min ago37.72N112.49W-3ML2.0UTAH2021-02-02 16:37',\n",
       " 'earthquake2021-02-0213:09:03.65hr 21min ago38.94N25.99E8ML2.5AEGEAN SEA2021-02-02 16:07',\n",
       " 'earthquake2021-02-0212:55:03.85hr 35min ago38.96N26.04E6ML2.6NEAR THE COAST OF WESTERN TURKEY2021-02-02 16:06',\n",
       " 'earthquake2021-02-0212:30:56.35hr 59min ago46.91N9.55E2ML1.9SWITZERLAND2021-02-02 12:36',\n",
       " '59IIIearthquake2021-02-0218:12:44.917min ago45.46N16.02E2ML2.7CROATIA2021-02-02 18:19',\n",
       " 'earthquake2021-02-0217:50:36.939min ago37.20N3.73W6ML2.0SPAIN2021-02-02 18:08',\n",
       " 'earthquake2021-02-0217:36:53.853min ago44.87N9.83E5ML2.5NORTHERN ITALY2021-02-02 17:55',\n",
       " 'earthquake2021-02-0217:31:07.358min ago38.98N26.03E2ML2.3NEAR THE COAST OF WESTERN TURKEY2021-02-02 18:16',\n",
       " 'earthquake2021-02-0217:27:18.01hr 02min ago0.49N99.86E117 M3.4NORTHERN SUMATRA, INDONESIA2021-02-02 17:35',\n",
       " 'earthquake2021-02-0217:19:08.31hr 10min ago37.22S179.14E12M 3.7OFF E. COAST OF N. ISLAND, N.Z.2021-02-02 17:25',\n",
       " 'earthquake2021-02-0216:58:25.21hr 31min ago40.38N124.48W13Md2.5OFFSHORE NORTHERN CALIFORNIA2021-02-02 17:00',\n",
       " 'earthquake2021-02-0216:41:27.01hr 48min ago37.23N3.69W7ML1.5SPAIN2021-02-02 16:46',\n",
       " 'earthquake2021-02-0215:57:37.02hr 32min ago5.15N127.51E130 M3.3PHILIPPINE ISLANDS REGION2021-02-02 16:10',\n",
       " 'earthquake2021-02-0215:43:02.62hr 47min ago44.05S169.48E3M 3.6SOUTH ISLAND OF NEW ZEALAND2021-02-02 15:45',\n",
       " 'earthquake2021-02-0215:30:33.02hr 59min ago2.04N96.35E10 M3.5SIMEULUE, INDONESIA2021-02-02 15:35',\n",
       " 'earthquake2021-02-0215:22:17.53hr 07min ago37.21N3.73W5ML2.3SPAIN2021-02-02 15:34',\n",
       " 'earthquake2021-02-0215:03:13.53hr 26min ago33.39N116.44W11Ml2.2SOUTHERN CALIFORNIA2021-02-02 15:05',\n",
       " 'earthquake2021-02-0214:54:51.13hr 35min ago38.41N23.82E4ML2.8GREECE2021-02-02 16:48',\n",
       " 'earthquake2021-02-0214:45:00.53hr 45min ago4.12N126.41E40mb4.7KEPULAUAN TALAUD, INDONESIA2021-02-02 16:23',\n",
       " 'earthquake2021-02-0214:37:40.13hr 52min ago4.07N126.59E52mb5.0KEPULAUAN TALAUD, INDONESIA2021-02-02 16:10',\n",
       " 'earthquake2021-02-0214:06:35.44hr 23min ago39.12N36.03E7ML2.0CENTRAL TURKEY2021-02-02 14:26',\n",
       " 'earthquake2021-02-0213:48:03.74hr 42min ago37.21N3.71W3ML1.6SPAIN2021-02-02 14:01',\n",
       " 'earthquake2021-02-0213:42:16.04hr 47min ago2.44N126.95E17 M3.1MOLUCCA SEA2021-02-02 13:56',\n",
       " 'earthquake2021-02-0213:33:32.14hr 56min ago19.28N67.20W31ML2.5PUERTO RICO REGION2021-02-02 14:19',\n",
       " 'earthquake2021-02-0213:28:28.65hr 01min ago39.13N36.03E7ML2.6CENTRAL TURKEY2021-02-02 16:09',\n",
       " 'earthquake2021-02-0213:22:43.65hr 07min ago37.72N112.49W-3ML2.0UTAH2021-02-02 16:37',\n",
       " 'earthquake2021-02-0213:09:03.65hr 21min ago38.94N25.99E8ML2.5AEGEAN SEA2021-02-02 16:07',\n",
       " 'earthquake2021-02-0212:55:03.85hr 35min ago38.96N26.04E6ML2.6NEAR THE COAST OF WESTERN TURKEY2021-02-02 16:06',\n",
       " 'earthquake2021-02-0212:30:56.35hr 59min ago46.91N9.55E2ML1.9SWITZERLAND2021-02-02 12:36']"
      ]
     },
     "execution_count": 23,
     "metadata": {},
     "output_type": "execute_result"
    }
   ],
   "source": [
    "html_7 = requests.get(url_7).content\n",
    "soup_7 = BeautifulSoup(html_7, 'html.parser')\n",
    "\n",
    "# getting the info about the earthquake 1\n",
    "table_7 = soup_7.find_all('tr', {'class': 'ligne1 normal'}) # hay que añadirle las ligne2 normal\n",
    "eq_type_1 = [info.text for info in table_7]\n",
    "\n",
    "# getting the info about the earthquake 1\n",
    "table_7_2 = soup_7.find_all('tr', {'class': 'ligne2 normal'}) # hay que añadirle las ligne2 normal\n",
    "eq_type_2 = [info.text for info in table_7]\n",
    "\n",
    "# combining the two lists\n",
    "eq_list = eq_type_1 + eq_type_2\n",
    "eq_list_clean = [x.replace('\\xa0', '') for x in eq_list]\n",
    "eq_list_clean"
   ]
  },
  {
   "cell_type": "code",
   "execution_count": 174,
   "metadata": {},
   "outputs": [],
   "source": [
    "# extracting the date\n",
    "eq_date_list = [re.findall(r'([0-9]{4}\\-[0-9]{2}\\-[0-9]{2})', x) for x in eq_list_clean]\n",
    "eq_date = [date[0] for date in eq_date_list]\n",
    "\n",
    "# extracting the time.\n",
    "eq_time = [re.findall(r'([0-9]{2}\\:[0-9]{2}\\:[0-9]{2})', x) for x in eq_list_clean]\n",
    "\n",
    "# extracting latitude and longitud\n",
    "eq_latitude_longitud = [re.findall(r'([0-9]+\\.[0-9]{2}[A-Z])', x) for x in eq_list_clean]\n",
    "eq_latitude = [lat[0] for lat in eq_latitude_longitud]\n",
    "eq_longitud = [lon[1] for lon in eq_latitude_longitud]\n",
    "\n",
    "# extracting the region name\n",
    "eq_region = [re.findall(r'([A-Z][A-Z][A-Z]+[\\s+[A-Z]+\\s*]*)', x) for x in eq_list_clean]"
   ]
  },
  {
   "cell_type": "code",
   "execution_count": 175,
   "metadata": {},
   "outputs": [],
   "source": [
    "# creating pandas data frame.\n",
    "columns_names = {'Date': eq_date, 'Time': eq_time, 'Latitude': eq_latitude, 'Longitud': eq_longitud,\n",
    "                 'Region': eq_region}\n",
    "df_eq = pd.DataFrame(columns_names)"
   ]
  },
  {
   "cell_type": "code",
   "execution_count": 180,
   "metadata": {},
   "outputs": [
    {
     "data": {
      "text/html": [
       "<div>\n",
       "<style scoped>\n",
       "    .dataframe tbody tr th:only-of-type {\n",
       "        vertical-align: middle;\n",
       "    }\n",
       "\n",
       "    .dataframe tbody tr th {\n",
       "        vertical-align: top;\n",
       "    }\n",
       "\n",
       "    .dataframe thead th {\n",
       "        text-align: right;\n",
       "    }\n",
       "</style>\n",
       "<table border=\"1\" class=\"dataframe\">\n",
       "  <thead>\n",
       "    <tr style=\"text-align: right;\">\n",
       "      <th></th>\n",
       "      <th>Date</th>\n",
       "      <th>Time</th>\n",
       "      <th>Latitude</th>\n",
       "      <th>Longitud</th>\n",
       "      <th>Region</th>\n",
       "    </tr>\n",
       "  </thead>\n",
       "  <tbody>\n",
       "    <tr>\n",
       "      <th>0</th>\n",
       "      <td>2021-02-02</td>\n",
       "      <td>18:12:44</td>\n",
       "      <td>45.46N</td>\n",
       "      <td>16.02E</td>\n",
       "      <td>CROATIA</td>\n",
       "    </tr>\n",
       "    <tr>\n",
       "      <th>1</th>\n",
       "      <td>2021-02-02</td>\n",
       "      <td>17:50:36</td>\n",
       "      <td>37.20N</td>\n",
       "      <td>3.73W</td>\n",
       "      <td>SPAIN</td>\n",
       "    </tr>\n",
       "    <tr>\n",
       "      <th>2</th>\n",
       "      <td>2021-02-02</td>\n",
       "      <td>17:36:53</td>\n",
       "      <td>44.87N</td>\n",
       "      <td>9.83E</td>\n",
       "      <td>NORTHERN ITALY</td>\n",
       "    </tr>\n",
       "    <tr>\n",
       "      <th>3</th>\n",
       "      <td>2021-02-02</td>\n",
       "      <td>17:31:07</td>\n",
       "      <td>38.98N</td>\n",
       "      <td>26.03E</td>\n",
       "      <td>NEAR THE COAST OF WESTERN TURKEY</td>\n",
       "    </tr>\n",
       "    <tr>\n",
       "      <th>4</th>\n",
       "      <td>2021-02-02</td>\n",
       "      <td>17:27:18</td>\n",
       "      <td>0.49N</td>\n",
       "      <td>99.86E</td>\n",
       "      <td>NORTHERN SUMATRA', 'INDONESIA</td>\n",
       "    </tr>\n",
       "    <tr>\n",
       "      <th>5</th>\n",
       "      <td>2021-02-02</td>\n",
       "      <td>17:19:08</td>\n",
       "      <td>37.22S</td>\n",
       "      <td>179.14E</td>\n",
       "      <td>OFF E', 'COAST OF N', 'ISLAND</td>\n",
       "    </tr>\n",
       "    <tr>\n",
       "      <th>6</th>\n",
       "      <td>2021-02-02</td>\n",
       "      <td>16:58:25</td>\n",
       "      <td>40.38N</td>\n",
       "      <td>124.48W</td>\n",
       "      <td>OFFSHORE NORTHERN CALIFORNIA</td>\n",
       "    </tr>\n",
       "    <tr>\n",
       "      <th>7</th>\n",
       "      <td>2021-02-02</td>\n",
       "      <td>16:41:27</td>\n",
       "      <td>37.23N</td>\n",
       "      <td>3.69W</td>\n",
       "      <td>SPAIN</td>\n",
       "    </tr>\n",
       "    <tr>\n",
       "      <th>8</th>\n",
       "      <td>2021-02-02</td>\n",
       "      <td>15:57:37</td>\n",
       "      <td>5.15N</td>\n",
       "      <td>127.51E</td>\n",
       "      <td>PHILIPPINE ISLANDS REGION</td>\n",
       "    </tr>\n",
       "    <tr>\n",
       "      <th>9</th>\n",
       "      <td>2021-02-02</td>\n",
       "      <td>15:43:02</td>\n",
       "      <td>44.05S</td>\n",
       "      <td>169.48E</td>\n",
       "      <td>SOUTH ISLAND OF NEW ZEALAND</td>\n",
       "    </tr>\n",
       "    <tr>\n",
       "      <th>10</th>\n",
       "      <td>2021-02-02</td>\n",
       "      <td>15:30:33</td>\n",
       "      <td>2.04N</td>\n",
       "      <td>96.35E</td>\n",
       "      <td>SIMEULUE', 'INDONESIA</td>\n",
       "    </tr>\n",
       "    <tr>\n",
       "      <th>11</th>\n",
       "      <td>2021-02-02</td>\n",
       "      <td>15:22:17</td>\n",
       "      <td>37.21N</td>\n",
       "      <td>3.73W</td>\n",
       "      <td>SPAIN</td>\n",
       "    </tr>\n",
       "    <tr>\n",
       "      <th>12</th>\n",
       "      <td>2021-02-02</td>\n",
       "      <td>15:03:13</td>\n",
       "      <td>33.39N</td>\n",
       "      <td>116.44W</td>\n",
       "      <td>SOUTHERN CALIFORNIA</td>\n",
       "    </tr>\n",
       "    <tr>\n",
       "      <th>13</th>\n",
       "      <td>2021-02-02</td>\n",
       "      <td>14:54:51</td>\n",
       "      <td>38.41N</td>\n",
       "      <td>23.82E</td>\n",
       "      <td>GREECE</td>\n",
       "    </tr>\n",
       "    <tr>\n",
       "      <th>14</th>\n",
       "      <td>2021-02-02</td>\n",
       "      <td>14:45:00</td>\n",
       "      <td>4.12N</td>\n",
       "      <td>126.41E</td>\n",
       "      <td>KEPULAUAN TALAUD', 'INDONESIA</td>\n",
       "    </tr>\n",
       "    <tr>\n",
       "      <th>15</th>\n",
       "      <td>2021-02-02</td>\n",
       "      <td>14:37:40</td>\n",
       "      <td>4.07N</td>\n",
       "      <td>126.59E</td>\n",
       "      <td>KEPULAUAN TALAUD', 'INDONESIA</td>\n",
       "    </tr>\n",
       "    <tr>\n",
       "      <th>16</th>\n",
       "      <td>2021-02-02</td>\n",
       "      <td>14:06:35</td>\n",
       "      <td>39.12N</td>\n",
       "      <td>36.03E</td>\n",
       "      <td>CENTRAL TURKEY</td>\n",
       "    </tr>\n",
       "    <tr>\n",
       "      <th>17</th>\n",
       "      <td>2021-02-02</td>\n",
       "      <td>13:48:03</td>\n",
       "      <td>37.21N</td>\n",
       "      <td>3.71W</td>\n",
       "      <td>SPAIN</td>\n",
       "    </tr>\n",
       "    <tr>\n",
       "      <th>18</th>\n",
       "      <td>2021-02-02</td>\n",
       "      <td>13:42:16</td>\n",
       "      <td>2.44N</td>\n",
       "      <td>126.95E</td>\n",
       "      <td>MOLUCCA SEA</td>\n",
       "    </tr>\n",
       "    <tr>\n",
       "      <th>19</th>\n",
       "      <td>2021-02-02</td>\n",
       "      <td>13:33:32</td>\n",
       "      <td>19.28N</td>\n",
       "      <td>67.20W</td>\n",
       "      <td>PUERTO RICO REGION</td>\n",
       "    </tr>\n",
       "    <tr>\n",
       "      <th>20</th>\n",
       "      <td>2021-02-02</td>\n",
       "      <td>13:28:28</td>\n",
       "      <td>39.13N</td>\n",
       "      <td>36.03E</td>\n",
       "      <td>CENTRAL TURKEY</td>\n",
       "    </tr>\n",
       "    <tr>\n",
       "      <th>21</th>\n",
       "      <td>2021-02-02</td>\n",
       "      <td>13:22:43</td>\n",
       "      <td>37.72N</td>\n",
       "      <td>112.49W</td>\n",
       "      <td>UTAH</td>\n",
       "    </tr>\n",
       "    <tr>\n",
       "      <th>22</th>\n",
       "      <td>2021-02-02</td>\n",
       "      <td>13:09:03</td>\n",
       "      <td>38.94N</td>\n",
       "      <td>25.99E</td>\n",
       "      <td>AEGEAN SEA</td>\n",
       "    </tr>\n",
       "    <tr>\n",
       "      <th>23</th>\n",
       "      <td>2021-02-02</td>\n",
       "      <td>12:55:03</td>\n",
       "      <td>38.96N</td>\n",
       "      <td>26.04E</td>\n",
       "      <td>NEAR THE COAST OF WESTERN TURKEY</td>\n",
       "    </tr>\n",
       "    <tr>\n",
       "      <th>24</th>\n",
       "      <td>2021-02-02</td>\n",
       "      <td>12:30:56</td>\n",
       "      <td>46.91N</td>\n",
       "      <td>9.55E</td>\n",
       "      <td>SWITZERLAND</td>\n",
       "    </tr>\n",
       "    <tr>\n",
       "      <th>25</th>\n",
       "      <td>2021-02-02</td>\n",
       "      <td>18:12:44</td>\n",
       "      <td>45.46N</td>\n",
       "      <td>16.02E</td>\n",
       "      <td>CROATIA</td>\n",
       "    </tr>\n",
       "    <tr>\n",
       "      <th>26</th>\n",
       "      <td>2021-02-02</td>\n",
       "      <td>17:50:36</td>\n",
       "      <td>37.20N</td>\n",
       "      <td>3.73W</td>\n",
       "      <td>SPAIN</td>\n",
       "    </tr>\n",
       "    <tr>\n",
       "      <th>27</th>\n",
       "      <td>2021-02-02</td>\n",
       "      <td>17:36:53</td>\n",
       "      <td>44.87N</td>\n",
       "      <td>9.83E</td>\n",
       "      <td>NORTHERN ITALY</td>\n",
       "    </tr>\n",
       "    <tr>\n",
       "      <th>28</th>\n",
       "      <td>2021-02-02</td>\n",
       "      <td>17:31:07</td>\n",
       "      <td>38.98N</td>\n",
       "      <td>26.03E</td>\n",
       "      <td>NEAR THE COAST OF WESTERN TURKEY</td>\n",
       "    </tr>\n",
       "    <tr>\n",
       "      <th>29</th>\n",
       "      <td>2021-02-02</td>\n",
       "      <td>17:27:18</td>\n",
       "      <td>0.49N</td>\n",
       "      <td>99.86E</td>\n",
       "      <td>NORTHERN SUMATRA', 'INDONESIA</td>\n",
       "    </tr>\n",
       "    <tr>\n",
       "      <th>30</th>\n",
       "      <td>2021-02-02</td>\n",
       "      <td>17:19:08</td>\n",
       "      <td>37.22S</td>\n",
       "      <td>179.14E</td>\n",
       "      <td>OFF E', 'COAST OF N', 'ISLAND</td>\n",
       "    </tr>\n",
       "    <tr>\n",
       "      <th>31</th>\n",
       "      <td>2021-02-02</td>\n",
       "      <td>16:58:25</td>\n",
       "      <td>40.38N</td>\n",
       "      <td>124.48W</td>\n",
       "      <td>OFFSHORE NORTHERN CALIFORNIA</td>\n",
       "    </tr>\n",
       "    <tr>\n",
       "      <th>32</th>\n",
       "      <td>2021-02-02</td>\n",
       "      <td>16:41:27</td>\n",
       "      <td>37.23N</td>\n",
       "      <td>3.69W</td>\n",
       "      <td>SPAIN</td>\n",
       "    </tr>\n",
       "    <tr>\n",
       "      <th>33</th>\n",
       "      <td>2021-02-02</td>\n",
       "      <td>15:57:37</td>\n",
       "      <td>5.15N</td>\n",
       "      <td>127.51E</td>\n",
       "      <td>PHILIPPINE ISLANDS REGION</td>\n",
       "    </tr>\n",
       "    <tr>\n",
       "      <th>34</th>\n",
       "      <td>2021-02-02</td>\n",
       "      <td>15:43:02</td>\n",
       "      <td>44.05S</td>\n",
       "      <td>169.48E</td>\n",
       "      <td>SOUTH ISLAND OF NEW ZEALAND</td>\n",
       "    </tr>\n",
       "    <tr>\n",
       "      <th>35</th>\n",
       "      <td>2021-02-02</td>\n",
       "      <td>15:30:33</td>\n",
       "      <td>2.04N</td>\n",
       "      <td>96.35E</td>\n",
       "      <td>SIMEULUE', 'INDONESIA</td>\n",
       "    </tr>\n",
       "    <tr>\n",
       "      <th>36</th>\n",
       "      <td>2021-02-02</td>\n",
       "      <td>15:22:17</td>\n",
       "      <td>37.21N</td>\n",
       "      <td>3.73W</td>\n",
       "      <td>SPAIN</td>\n",
       "    </tr>\n",
       "    <tr>\n",
       "      <th>37</th>\n",
       "      <td>2021-02-02</td>\n",
       "      <td>15:03:13</td>\n",
       "      <td>33.39N</td>\n",
       "      <td>116.44W</td>\n",
       "      <td>SOUTHERN CALIFORNIA</td>\n",
       "    </tr>\n",
       "    <tr>\n",
       "      <th>38</th>\n",
       "      <td>2021-02-02</td>\n",
       "      <td>14:54:51</td>\n",
       "      <td>38.41N</td>\n",
       "      <td>23.82E</td>\n",
       "      <td>GREECE</td>\n",
       "    </tr>\n",
       "    <tr>\n",
       "      <th>39</th>\n",
       "      <td>2021-02-02</td>\n",
       "      <td>14:45:00</td>\n",
       "      <td>4.12N</td>\n",
       "      <td>126.41E</td>\n",
       "      <td>KEPULAUAN TALAUD', 'INDONESIA</td>\n",
       "    </tr>\n",
       "    <tr>\n",
       "      <th>40</th>\n",
       "      <td>2021-02-02</td>\n",
       "      <td>14:37:40</td>\n",
       "      <td>4.07N</td>\n",
       "      <td>126.59E</td>\n",
       "      <td>KEPULAUAN TALAUD', 'INDONESIA</td>\n",
       "    </tr>\n",
       "    <tr>\n",
       "      <th>41</th>\n",
       "      <td>2021-02-02</td>\n",
       "      <td>14:06:35</td>\n",
       "      <td>39.12N</td>\n",
       "      <td>36.03E</td>\n",
       "      <td>CENTRAL TURKEY</td>\n",
       "    </tr>\n",
       "    <tr>\n",
       "      <th>42</th>\n",
       "      <td>2021-02-02</td>\n",
       "      <td>13:48:03</td>\n",
       "      <td>37.21N</td>\n",
       "      <td>3.71W</td>\n",
       "      <td>SPAIN</td>\n",
       "    </tr>\n",
       "    <tr>\n",
       "      <th>43</th>\n",
       "      <td>2021-02-02</td>\n",
       "      <td>13:42:16</td>\n",
       "      <td>2.44N</td>\n",
       "      <td>126.95E</td>\n",
       "      <td>MOLUCCA SEA</td>\n",
       "    </tr>\n",
       "    <tr>\n",
       "      <th>44</th>\n",
       "      <td>2021-02-02</td>\n",
       "      <td>13:33:32</td>\n",
       "      <td>19.28N</td>\n",
       "      <td>67.20W</td>\n",
       "      <td>PUERTO RICO REGION</td>\n",
       "    </tr>\n",
       "    <tr>\n",
       "      <th>45</th>\n",
       "      <td>2021-02-02</td>\n",
       "      <td>13:28:28</td>\n",
       "      <td>39.13N</td>\n",
       "      <td>36.03E</td>\n",
       "      <td>CENTRAL TURKEY</td>\n",
       "    </tr>\n",
       "    <tr>\n",
       "      <th>46</th>\n",
       "      <td>2021-02-02</td>\n",
       "      <td>13:22:43</td>\n",
       "      <td>37.72N</td>\n",
       "      <td>112.49W</td>\n",
       "      <td>UTAH</td>\n",
       "    </tr>\n",
       "    <tr>\n",
       "      <th>47</th>\n",
       "      <td>2021-02-02</td>\n",
       "      <td>13:09:03</td>\n",
       "      <td>38.94N</td>\n",
       "      <td>25.99E</td>\n",
       "      <td>AEGEAN SEA</td>\n",
       "    </tr>\n",
       "    <tr>\n",
       "      <th>48</th>\n",
       "      <td>2021-02-02</td>\n",
       "      <td>12:55:03</td>\n",
       "      <td>38.96N</td>\n",
       "      <td>26.04E</td>\n",
       "      <td>NEAR THE COAST OF WESTERN TURKEY</td>\n",
       "    </tr>\n",
       "    <tr>\n",
       "      <th>49</th>\n",
       "      <td>2021-02-02</td>\n",
       "      <td>12:30:56</td>\n",
       "      <td>46.91N</td>\n",
       "      <td>9.55E</td>\n",
       "      <td>SWITZERLAND</td>\n",
       "    </tr>\n",
       "  </tbody>\n",
       "</table>\n",
       "</div>"
      ],
      "text/plain": [
       "          Date      Time Latitude Longitud                            Region\n",
       "0   2021-02-02  18:12:44   45.46N   16.02E                           CROATIA\n",
       "1   2021-02-02  17:50:36   37.20N    3.73W                             SPAIN\n",
       "2   2021-02-02  17:36:53   44.87N    9.83E                    NORTHERN ITALY\n",
       "3   2021-02-02  17:31:07   38.98N   26.03E  NEAR THE COAST OF WESTERN TURKEY\n",
       "4   2021-02-02  17:27:18    0.49N   99.86E     NORTHERN SUMATRA', 'INDONESIA\n",
       "5   2021-02-02  17:19:08   37.22S  179.14E     OFF E', 'COAST OF N', 'ISLAND\n",
       "6   2021-02-02  16:58:25   40.38N  124.48W      OFFSHORE NORTHERN CALIFORNIA\n",
       "7   2021-02-02  16:41:27   37.23N    3.69W                             SPAIN\n",
       "8   2021-02-02  15:57:37    5.15N  127.51E         PHILIPPINE ISLANDS REGION\n",
       "9   2021-02-02  15:43:02   44.05S  169.48E       SOUTH ISLAND OF NEW ZEALAND\n",
       "10  2021-02-02  15:30:33    2.04N   96.35E             SIMEULUE', 'INDONESIA\n",
       "11  2021-02-02  15:22:17   37.21N    3.73W                             SPAIN\n",
       "12  2021-02-02  15:03:13   33.39N  116.44W               SOUTHERN CALIFORNIA\n",
       "13  2021-02-02  14:54:51   38.41N   23.82E                            GREECE\n",
       "14  2021-02-02  14:45:00    4.12N  126.41E     KEPULAUAN TALAUD', 'INDONESIA\n",
       "15  2021-02-02  14:37:40    4.07N  126.59E     KEPULAUAN TALAUD', 'INDONESIA\n",
       "16  2021-02-02  14:06:35   39.12N   36.03E                    CENTRAL TURKEY\n",
       "17  2021-02-02  13:48:03   37.21N    3.71W                             SPAIN\n",
       "18  2021-02-02  13:42:16    2.44N  126.95E                       MOLUCCA SEA\n",
       "19  2021-02-02  13:33:32   19.28N   67.20W                PUERTO RICO REGION\n",
       "20  2021-02-02  13:28:28   39.13N   36.03E                    CENTRAL TURKEY\n",
       "21  2021-02-02  13:22:43   37.72N  112.49W                              UTAH\n",
       "22  2021-02-02  13:09:03   38.94N   25.99E                        AEGEAN SEA\n",
       "23  2021-02-02  12:55:03   38.96N   26.04E  NEAR THE COAST OF WESTERN TURKEY\n",
       "24  2021-02-02  12:30:56   46.91N    9.55E                       SWITZERLAND\n",
       "25  2021-02-02  18:12:44   45.46N   16.02E                           CROATIA\n",
       "26  2021-02-02  17:50:36   37.20N    3.73W                             SPAIN\n",
       "27  2021-02-02  17:36:53   44.87N    9.83E                    NORTHERN ITALY\n",
       "28  2021-02-02  17:31:07   38.98N   26.03E  NEAR THE COAST OF WESTERN TURKEY\n",
       "29  2021-02-02  17:27:18    0.49N   99.86E     NORTHERN SUMATRA', 'INDONESIA\n",
       "30  2021-02-02  17:19:08   37.22S  179.14E     OFF E', 'COAST OF N', 'ISLAND\n",
       "31  2021-02-02  16:58:25   40.38N  124.48W      OFFSHORE NORTHERN CALIFORNIA\n",
       "32  2021-02-02  16:41:27   37.23N    3.69W                             SPAIN\n",
       "33  2021-02-02  15:57:37    5.15N  127.51E         PHILIPPINE ISLANDS REGION\n",
       "34  2021-02-02  15:43:02   44.05S  169.48E       SOUTH ISLAND OF NEW ZEALAND\n",
       "35  2021-02-02  15:30:33    2.04N   96.35E             SIMEULUE', 'INDONESIA\n",
       "36  2021-02-02  15:22:17   37.21N    3.73W                             SPAIN\n",
       "37  2021-02-02  15:03:13   33.39N  116.44W               SOUTHERN CALIFORNIA\n",
       "38  2021-02-02  14:54:51   38.41N   23.82E                            GREECE\n",
       "39  2021-02-02  14:45:00    4.12N  126.41E     KEPULAUAN TALAUD', 'INDONESIA\n",
       "40  2021-02-02  14:37:40    4.07N  126.59E     KEPULAUAN TALAUD', 'INDONESIA\n",
       "41  2021-02-02  14:06:35   39.12N   36.03E                    CENTRAL TURKEY\n",
       "42  2021-02-02  13:48:03   37.21N    3.71W                             SPAIN\n",
       "43  2021-02-02  13:42:16    2.44N  126.95E                       MOLUCCA SEA\n",
       "44  2021-02-02  13:33:32   19.28N   67.20W                PUERTO RICO REGION\n",
       "45  2021-02-02  13:28:28   39.13N   36.03E                    CENTRAL TURKEY\n",
       "46  2021-02-02  13:22:43   37.72N  112.49W                              UTAH\n",
       "47  2021-02-02  13:09:03   38.94N   25.99E                        AEGEAN SEA\n",
       "48  2021-02-02  12:55:03   38.96N   26.04E  NEAR THE COAST OF WESTERN TURKEY\n",
       "49  2021-02-02  12:30:56   46.91N    9.55E                       SWITZERLAND"
      ]
     },
     "execution_count": 180,
     "metadata": {},
     "output_type": "execute_result"
    }
   ],
   "source": [
    "# cleaning the data frame\n",
    "df_eq['Region'] = df_eq['Region'].astype('string')\n",
    "df_eq['Region'] = df_eq['Region'].str.replace(\"^\\['|'\\]\",\"\")\n",
    "df_eq['Time'] = df_eq['Time'].astype('string')\n",
    "df_eq['Time'] = df_eq['Time'].str.replace(\"^\\['|'\\]$\",\"\")\n",
    "df_eq"
   ]
  },
  {
   "cell_type": "markdown",
   "metadata": {},
   "source": [
    "#### Count the number of tweets by a given Twitter account.\n",
    "Ask the user for the handle (@handle) of a twitter account. You will need to include a ***try/except block*** for account names not found. \n",
    "<br>***Hint:*** the program should count the number of tweets for any provided account."
   ]
  },
  {
   "cell_type": "code",
   "execution_count": 24,
   "metadata": {},
   "outputs": [],
   "source": [
    "# This is the url you will scrape in this exercise \n",
    "# You will need to add the account credentials to this url\n",
    "url = 'https://twitter.com/'"
   ]
  },
  {
   "cell_type": "code",
   "execution_count": 25,
   "metadata": {},
   "outputs": [],
   "source": [
    "# your code here"
   ]
  },
  {
   "cell_type": "markdown",
   "metadata": {},
   "source": [
    "#### Number of followers of a given twitter account\n",
    "Ask the user for the handle (@handle) of a twitter account. You will need to include a ***try/except block*** for account names not found. \n",
    "<br>***Hint:*** the program should count the followers for any provided account."
   ]
  },
  {
   "cell_type": "code",
   "execution_count": 26,
   "metadata": {},
   "outputs": [],
   "source": [
    "# This is the url you will scrape in this exercise \n",
    "# You will need to add the account credentials to this url\n",
    "url = 'https://twitter.com/'"
   ]
  },
  {
   "cell_type": "code",
   "execution_count": 27,
   "metadata": {},
   "outputs": [],
   "source": [
    "# your code here"
   ]
  },
  {
   "cell_type": "markdown",
   "metadata": {},
   "source": [
    "#### List all language names and number of related articles in the order they appear in wikipedia.org."
   ]
  },
  {
   "cell_type": "code",
   "execution_count": 28,
   "metadata": {},
   "outputs": [],
   "source": [
    "# This is the url you will scrape in this exercise\n",
    "url = 'https://www.wikipedia.org/'"
   ]
  },
  {
   "cell_type": "code",
   "execution_count": 29,
   "metadata": {},
   "outputs": [],
   "source": [
    "# your code here"
   ]
  },
  {
   "cell_type": "markdown",
   "metadata": {},
   "source": [
    "#### A list with the different kind of datasets available in data.gov.uk."
   ]
  },
  {
   "cell_type": "code",
   "execution_count": 30,
   "metadata": {},
   "outputs": [],
   "source": [
    "# This is the url you will scrape in this exercise\n",
    "url = 'https://data.gov.uk/'"
   ]
  },
  {
   "cell_type": "code",
   "execution_count": 31,
   "metadata": {},
   "outputs": [],
   "source": [
    "# your code here"
   ]
  },
  {
   "cell_type": "markdown",
   "metadata": {},
   "source": [
    "#### Display the top 10 languages by number of native speakers stored in a pandas dataframe."
   ]
  },
  {
   "cell_type": "code",
   "execution_count": 32,
   "metadata": {},
   "outputs": [],
   "source": [
    "# This is the url you will scrape in this exercise\n",
    "url = 'https://en.wikipedia.org/wiki/List_of_languages_by_number_of_native_speakers'"
   ]
  },
  {
   "cell_type": "code",
   "execution_count": 33,
   "metadata": {},
   "outputs": [],
   "source": [
    "# your code here"
   ]
  },
  {
   "cell_type": "markdown",
   "metadata": {},
   "source": [
    "## Bonus\n",
    "#### Scrape a certain number of tweets of a given Twitter account."
   ]
  },
  {
   "cell_type": "code",
   "execution_count": 34,
   "metadata": {},
   "outputs": [],
   "source": [
    "# This is the url you will scrape in this exercise \n",
    "# You will need to add the account credentials to this url\n",
    "url = 'https://twitter.com/'"
   ]
  },
  {
   "cell_type": "code",
   "execution_count": 35,
   "metadata": {},
   "outputs": [],
   "source": [
    "# your code here"
   ]
  },
  {
   "cell_type": "markdown",
   "metadata": {},
   "source": [
    "#### Display IMDB's top 250 data (movie name, initial release, director name and stars) as a pandas dataframe."
   ]
  },
  {
   "cell_type": "code",
   "execution_count": 36,
   "metadata": {},
   "outputs": [],
   "source": [
    "# This is the url you will scrape in this exercise \n",
    "url = 'https://www.imdb.com/chart/top'"
   ]
  },
  {
   "cell_type": "code",
   "execution_count": 37,
   "metadata": {},
   "outputs": [],
   "source": [
    "# your code here"
   ]
  },
  {
   "cell_type": "markdown",
   "metadata": {},
   "source": [
    "#### Display the movie name, year and a brief summary of the top 10 random movies (IMDB) as a pandas dataframe."
   ]
  },
  {
   "cell_type": "code",
   "execution_count": 38,
   "metadata": {},
   "outputs": [],
   "source": [
    "#This is the url you will scrape in this exercise\n",
    "url = 'http://www.imdb.com/chart/top'"
   ]
  },
  {
   "cell_type": "code",
   "execution_count": 39,
   "metadata": {},
   "outputs": [],
   "source": [
    "# your code here"
   ]
  },
  {
   "cell_type": "markdown",
   "metadata": {},
   "source": [
    "#### Find the live weather report (temperature, wind speed, description and weather) of a given city."
   ]
  },
  {
   "cell_type": "code",
   "execution_count": 40,
   "metadata": {},
   "outputs": [
    {
     "ename": "KeyboardInterrupt",
     "evalue": "Interrupted by user",
     "output_type": "error",
     "traceback": [
      "\u001b[0;31m---------------------------------------------------------------------------\u001b[0m",
      "\u001b[0;31mKeyboardInterrupt\u001b[0m                         Traceback (most recent call last)",
      "\u001b[0;32m<ipython-input-40-0299fa35631a>\u001b[0m in \u001b[0;36m<module>\u001b[0;34m\u001b[0m\n\u001b[1;32m      1\u001b[0m \u001b[0;31m#https://openweathermap.org/current\u001b[0m\u001b[0;34m\u001b[0m\u001b[0;34m\u001b[0m\u001b[0;34m\u001b[0m\u001b[0m\n\u001b[0;32m----> 2\u001b[0;31m \u001b[0mcity\u001b[0m \u001b[0;34m=\u001b[0m \u001b[0minput\u001b[0m\u001b[0;34m(\u001b[0m\u001b[0;34m'Enter the city: '\u001b[0m\u001b[0;34m)\u001b[0m\u001b[0;34m\u001b[0m\u001b[0;34m\u001b[0m\u001b[0m\n\u001b[0m\u001b[1;32m      3\u001b[0m \u001b[0murl\u001b[0m \u001b[0;34m=\u001b[0m \u001b[0;34m'http://api.openweathermap.org/data/2.5/weather?'\u001b[0m\u001b[0;34m+\u001b[0m\u001b[0;34m'q='\u001b[0m\u001b[0;34m+\u001b[0m\u001b[0mcity\u001b[0m\u001b[0;34m+\u001b[0m\u001b[0;34m'&APPID=b35975e18dc93725acb092f7272cc6b8&units=metric'\u001b[0m\u001b[0;34m\u001b[0m\u001b[0;34m\u001b[0m\u001b[0m\n",
      "\u001b[0;32m~/miniconda3/envs/ironhack_env/lib/python3.8/site-packages/ipykernel/kernelbase.py\u001b[0m in \u001b[0;36mraw_input\u001b[0;34m(self, prompt)\u001b[0m\n\u001b[1;32m    858\u001b[0m                 \u001b[0;34m\"raw_input was called, but this frontend does not support input requests.\"\u001b[0m\u001b[0;34m\u001b[0m\u001b[0;34m\u001b[0m\u001b[0m\n\u001b[1;32m    859\u001b[0m             )\n\u001b[0;32m--> 860\u001b[0;31m         return self._input_request(str(prompt),\n\u001b[0m\u001b[1;32m    861\u001b[0m             \u001b[0mself\u001b[0m\u001b[0;34m.\u001b[0m\u001b[0m_parent_ident\u001b[0m\u001b[0;34m,\u001b[0m\u001b[0;34m\u001b[0m\u001b[0;34m\u001b[0m\u001b[0m\n\u001b[1;32m    862\u001b[0m             \u001b[0mself\u001b[0m\u001b[0;34m.\u001b[0m\u001b[0m_parent_header\u001b[0m\u001b[0;34m,\u001b[0m\u001b[0;34m\u001b[0m\u001b[0;34m\u001b[0m\u001b[0m\n",
      "\u001b[0;32m~/miniconda3/envs/ironhack_env/lib/python3.8/site-packages/ipykernel/kernelbase.py\u001b[0m in \u001b[0;36m_input_request\u001b[0;34m(self, prompt, ident, parent, password)\u001b[0m\n\u001b[1;32m    902\u001b[0m             \u001b[0;32mexcept\u001b[0m \u001b[0mKeyboardInterrupt\u001b[0m\u001b[0;34m:\u001b[0m\u001b[0;34m\u001b[0m\u001b[0;34m\u001b[0m\u001b[0m\n\u001b[1;32m    903\u001b[0m                 \u001b[0;31m# re-raise KeyboardInterrupt, to truncate traceback\u001b[0m\u001b[0;34m\u001b[0m\u001b[0;34m\u001b[0m\u001b[0;34m\u001b[0m\u001b[0m\n\u001b[0;32m--> 904\u001b[0;31m                 \u001b[0;32mraise\u001b[0m \u001b[0mKeyboardInterrupt\u001b[0m\u001b[0;34m(\u001b[0m\u001b[0;34m\"Interrupted by user\"\u001b[0m\u001b[0;34m)\u001b[0m \u001b[0;32mfrom\u001b[0m \u001b[0;32mNone\u001b[0m\u001b[0;34m\u001b[0m\u001b[0;34m\u001b[0m\u001b[0m\n\u001b[0m\u001b[1;32m    905\u001b[0m             \u001b[0;32mexcept\u001b[0m \u001b[0mException\u001b[0m \u001b[0;32mas\u001b[0m \u001b[0me\u001b[0m\u001b[0;34m:\u001b[0m\u001b[0;34m\u001b[0m\u001b[0;34m\u001b[0m\u001b[0m\n\u001b[1;32m    906\u001b[0m                 \u001b[0mself\u001b[0m\u001b[0;34m.\u001b[0m\u001b[0mlog\u001b[0m\u001b[0;34m.\u001b[0m\u001b[0mwarning\u001b[0m\u001b[0;34m(\u001b[0m\u001b[0;34m\"Invalid Message:\"\u001b[0m\u001b[0;34m,\u001b[0m \u001b[0mexc_info\u001b[0m\u001b[0;34m=\u001b[0m\u001b[0;32mTrue\u001b[0m\u001b[0;34m)\u001b[0m\u001b[0;34m\u001b[0m\u001b[0;34m\u001b[0m\u001b[0m\n",
      "\u001b[0;31mKeyboardInterrupt\u001b[0m: Interrupted by user"
     ]
    }
   ],
   "source": [
    "#https://openweathermap.org/current\n",
    "city = input('Enter the city: ')\n",
    "url = 'http://api.openweathermap.org/data/2.5/weather?'+'q='+city+'&APPID=b35975e18dc93725acb092f7272cc6b8&units=metric'"
   ]
  },
  {
   "cell_type": "code",
   "execution_count": null,
   "metadata": {},
   "outputs": [],
   "source": [
    "# your code here"
   ]
  },
  {
   "cell_type": "markdown",
   "metadata": {},
   "source": [
    "#### Find the book name, price and stock availability as a pandas dataframe."
   ]
  },
  {
   "cell_type": "code",
   "execution_count": null,
   "metadata": {},
   "outputs": [],
   "source": [
    "# This is the url you will scrape in this exercise. \n",
    "# It is a fictional bookstore created to be scraped. \n",
    "url = 'http://books.toscrape.com/'"
   ]
  },
  {
   "cell_type": "code",
   "execution_count": null,
   "metadata": {},
   "outputs": [],
   "source": [
    "# your code here"
   ]
  }
 ],
 "metadata": {
  "kernelspec": {
   "display_name": "Python [conda env:ironhack_env]",
   "language": "python",
   "name": "conda-env-ironhack_env-py"
  },
  "language_info": {
   "codemirror_mode": {
    "name": "ipython",
    "version": 3
   },
   "file_extension": ".py",
   "mimetype": "text/x-python",
   "name": "python",
   "nbconvert_exporter": "python",
   "pygments_lexer": "ipython3",
   "version": "3.8.5"
  }
 },
 "nbformat": 4,
 "nbformat_minor": 4
}
