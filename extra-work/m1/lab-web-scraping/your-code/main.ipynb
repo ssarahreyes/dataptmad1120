{
 "cells": [
  {
   "cell_type": "markdown",
   "metadata": {},
   "source": [
    "# Web Scraping Lab\n",
    "\n",
    "You will find in this notebook some scrapy exercises to practise your scraping skills.\n",
    "\n",
    "**Tips:**\n",
    "\n",
    "- Check the response status code for each request to ensure you have obtained the intended content.\n",
    "- Print the response text in each request to understand the kind of info you are getting and its format.\n",
    "- Check for patterns in the response text to extract the data/info requested in each question.\n",
    "- Visit the urls below and take a look at their source code through Chrome DevTools. You'll need to identify the html tags, special class names, etc used in the html content you are expected to extract.\n",
    "\n",
    "**Resources**:\n",
    "- [Requests library](http://docs.python-requests.org/en/master/#the-user-guide)\n",
    "- [Beautiful Soup Doc](https://www.crummy.com/software/BeautifulSoup/bs4/doc/)\n",
    "- [Urllib](https://docs.python.org/3/library/urllib.html#module-urllib)\n",
    "- [re lib](https://docs.python.org/3/library/re.html)\n",
    "- [lxml lib](https://lxml.de/)\n",
    "- [Scrapy](https://scrapy.org/)\n",
    "- [List of HTTP status codes](https://en.wikipedia.org/wiki/List_of_HTTP_status_codes)\n",
    "- [HTML basics](http://www.simplehtmlguide.com/cheatsheet.php)\n",
    "- [CSS basics](https://www.cssbasics.com/#page_start)"
   ]
  },
  {
   "cell_type": "markdown",
   "metadata": {},
   "source": [
    "#### Below are the libraries and modules you may need. `requests`,  `BeautifulSoup` and `pandas` are already imported for you. If you prefer to use additional libraries feel free to do it."
   ]
  },
  {
   "cell_type": "code",
   "execution_count": 1,
   "metadata": {},
   "outputs": [],
   "source": [
    "import requests\n",
    "from bs4 import BeautifulSoup\n",
    "import pandas as pd\n",
    "import re"
   ]
  },
  {
   "cell_type": "markdown",
   "metadata": {},
   "source": [
    "#### Download, parse (using BeautifulSoup), and print the content from the Trending Developers page from GitHub:"
   ]
  },
  {
   "cell_type": "code",
   "execution_count": 2,
   "metadata": {},
   "outputs": [],
   "source": [
    "# This is the url you will scrape in this exercise\n",
    "url = 'https://github.com/trending/developers'"
   ]
  },
  {
   "cell_type": "code",
   "execution_count": 3,
   "metadata": {},
   "outputs": [],
   "source": [
    "# scraping web.\n",
    "html = requests.get(url).content\n",
    "soup = BeautifulSoup(html, 'html.parser')"
   ]
  },
  {
   "cell_type": "markdown",
   "metadata": {},
   "source": [
    "#### Display the names of the trending developers retrieved in the previous step.\n",
    "\n",
    "Your output should be a Python list of developer names. Each name should not contain any html tag.\n",
    "\n",
    "**Instructions:**\n",
    "\n",
    "1. Find out the html tag and class names used for the developer names. You can achieve this using Chrome DevTools.\n",
    "\n",
    "1. Use BeautifulSoup to extract all the html elements that contain the developer names.\n",
    "\n",
    "1. Use string manipulation techniques to replace whitespaces and linebreaks (i.e. `\\n`) in the *text* of each html element. Use a list to store the clean names.\n",
    "\n",
    "1. Print the list of names.\n",
    "\n",
    "Your output should look like below:\n",
    "\n",
    "```\n",
    "['trimstray (@trimstray)',\n",
    " 'joewalnes (JoeWalnes)',\n",
    " 'charlax (Charles-AxelDein)',\n",
    " 'ForrestKnight (ForrestKnight)',\n",
    " 'revery-ui (revery-ui)',\n",
    " 'alibaba (Alibaba)',\n",
    " 'Microsoft (Microsoft)',\n",
    " 'github (GitHub)',\n",
    " 'facebook (Facebook)',\n",
    " 'boazsegev (Bo)',\n",
    " 'google (Google)',\n",
    " 'cloudfetch',\n",
    " 'sindresorhus (SindreSorhus)',\n",
    " 'tensorflow',\n",
    " 'apache (TheApacheSoftwareFoundation)',\n",
    " 'DevonCrawford (DevonCrawford)',\n",
    " 'ARMmbed (ArmMbed)',\n",
    " 'vuejs (vuejs)',\n",
    " 'fastai (fast.ai)',\n",
    " 'QiShaoXuan (Qi)',\n",
    " 'joelparkerhenderson (JoelParkerHenderson)',\n",
    " 'torvalds (LinusTorvalds)',\n",
    " 'CyC2018',\n",
    " 'komeiji-satori (神楽坂覚々)',\n",
    " 'script-8']\n",
    " ```"
   ]
  },
  {
   "cell_type": "code",
   "execution_count": 4,
   "metadata": {},
   "outputs": [],
   "source": [
    "# obtaining the data\n",
    "table = soup.find_all('div', {'class': 'explore-pjax-container container-lg p-responsive pt-6'})[0]\n",
    "table_users = table.find_all('article')\n",
    "raw_info_users = [info.text for info in table_users]"
   ]
  },
  {
   "cell_type": "code",
   "execution_count": 5,
   "metadata": {},
   "outputs": [
    {
     "data": {
      "text/plain": [
       "['Dries Vints',\n",
       " 'Ariel Mashraki',\n",
       " 'Tomas Votruba',\n",
       " 'Miek Gieben',\n",
       " 'hiroki',\n",
       " 'Felix Angelov',\n",
       " 'Joakim Sørensen',\n",
       " 'Thomas Lovén',\n",
       " 'Ron Evans',\n",
       " 'Samuel Colvin',\n",
       " 'Daniel Mendler',\n",
       " 'Julien Le Coupanec',\n",
       " 'Frost Ming',\n",
       " 'Jörg Thalheim',\n",
       " 'Michele Locati',\n",
       " 'Ross Wightman',\n",
       " 'Thibault Duplessis',\n",
       " 'hrsh7th',\n",
       " 'Matthias',\n",
       " 'Wei Wang',\n",
       " 'Henrik Rydgård',\n",
       " 'Fons van der Plas',\n",
       " 'Arvid Norberg',\n",
       " 'pedrobern',\n",
       " 'Blake Blackshear']"
      ]
     },
     "execution_count": 5,
     "metadata": {},
     "output_type": "execute_result"
    }
   ],
   "source": [
    "# deleting spaces\n",
    "users_without_n = [re.sub(r'\\n', '', x) for x in raw_info_users]\n",
    "\n",
    "# deleting list elements not useful\n",
    "regex = re.compile(r'Popular repo*')\n",
    "users_clean = [i for i in users_without_n if not regex.match(i)]\n",
    "\n",
    "# creating a list to get just the second element (name of user)\n",
    "users_split = [user.split('       ') for user in users_clean]\n",
    "users_names = [el[1] for el in users_split]\n",
    "\n",
    "# deleting extra spaces at the beggining\n",
    "users_names_def = [x.split('      ') for x in users_names]\n",
    "users_names_def_2 = [el[1] for el in users_names_def]\n",
    "users_names_def_2"
   ]
  },
  {
   "cell_type": "markdown",
   "metadata": {},
   "source": [
    "#### Display the trending Python repositories in GitHub.\n",
    "\n",
    "The steps to solve this problem is similar to the previous one except that you need to find out the repository names instead of developer names."
   ]
  },
  {
   "cell_type": "code",
   "execution_count": 6,
   "metadata": {},
   "outputs": [],
   "source": [
    "# This is the url you will scrape in this exercise\n",
    "url_2 = 'https://github.com/trending/python?since=daily'"
   ]
  },
  {
   "cell_type": "code",
   "execution_count": 7,
   "metadata": {},
   "outputs": [],
   "source": [
    "# scrapping \n",
    "html_2 = requests.get(url_2).content\n",
    "soup_2 = BeautifulSoup(html_2, 'html.parser')"
   ]
  },
  {
   "cell_type": "code",
   "execution_count": 8,
   "metadata": {},
   "outputs": [],
   "source": [
    "# obtaining the data\n",
    "table_2 = soup_2.find_all('article', {'class': 'Box-row'})\n",
    "raw_info_repo = [info.text for info in table_2]"
   ]
  },
  {
   "cell_type": "code",
   "execution_count": 9,
   "metadata": {},
   "outputs": [
    {
     "data": {
      "text/plain": [
       "[' 3b1b /      manim',\n",
       " ' TheAlgorithms /      Python',\n",
       " ' tensortrade-org /      tensortrade',\n",
       " ' richardclegg /      vis_route Python',\n",
       " ' NPCat /      bad-apple-bot',\n",
       " \" HashPals /      Name-That-Hash 🔗 Don't know what type of hash it is? Name That Hash will name that hash type! 🤖 Identify MD5, SHA256 and 3000+ other hashes ☄ Comes with a neat web app 🔥Python\",\n",
       " ' numpy /      numpy',\n",
       " ' aws-samples /      aws-dev-hour-backend Python',\n",
       " ' mrjbq7 /      ta-lib',\n",
       " ' vinta /      awesome-python',\n",
       " ' donnemartin /      system-design-primer',\n",
       " ' brndnmtthws /      thetagang',\n",
       " ' sdushantha /      wifi-password',\n",
       " ' beurtschipper /      Depix',\n",
       " ' raminmh /      liquid_time_constant_networks',\n",
       " ' Z4nzu /      hackingtool',\n",
       " ' dupontgu /      retro-ipod-spotify-client',\n",
       " ' raspberrypi /      pico-micropython-examples',\n",
       " ' FengQuanLi /      ResnetGPT',\n",
       " ' ankitects /      anki',\n",
       " ' projectdiscovery /      nuclei-templates',\n",
       " ' davidbombal /      red-python-scripts Python',\n",
       " ' home-assistant /      core 🏡 Open source home automation that puts local control and privacy first    Python',\n",
       " ' sgrvinod /      a-PyTorch-Tutorial-to-Image-Captioning',\n",
       " ' optuna /      optuna']"
      ]
     },
     "execution_count": 9,
     "metadata": {},
     "output_type": "execute_result"
    }
   ],
   "source": [
    "# deleting spaces\n",
    "repo_without_n = [re.sub(r'\\n', '', x) for x in raw_info_repo]\n",
    "\n",
    "# creating a list to get just the second element (name of user)\n",
    "repo_split = [user.split('       ') for user in repo_without_n]\n",
    "repo_names = [el[2] for el in repo_split]\n",
    "\n",
    "# cleaning the names\n",
    "repo_names_clean = [re.sub(r'🤗Transformers: State-of-the-art Natural Language Processing for Pytorch and TensorFlow 2.0.    Python', '', x) for x in repo_names]\n",
    "repo_names_clean_2 = [re.sub(r' 💬 Open source machine learning framework to automate text- and voice-based conversations: NLU, dialogue management, connect to Slack, Facebook, and more - Create chatbots and voice assistants    Python', '', x) for x in repo_names_clean]\n",
    "repo_names_clean_2"
   ]
  },
  {
   "cell_type": "code",
   "execution_count": 10,
   "metadata": {},
   "outputs": [
    {
     "data": {
      "text/plain": [
       "['3b1b/manim',\n",
       " 'TheAlgorithms/Python',\n",
       " 'tensortrade-org/tensortrade',\n",
       " 'richardclegg/vis_routePython',\n",
       " 'NPCat/bad-apple-bot',\n",
       " \"HashPals/Name-That-Hash🔗Don'tknowwhattypeofhashitis?NameThatHashwillnamethathashtype!🤖IdentifyMD5,SHA256and3000+otherhashes☄Comeswithaneatwebapp🔥Python\",\n",
       " 'numpy/numpy',\n",
       " 'aws-samples/aws-dev-hour-backendPython',\n",
       " 'mrjbq7/ta-lib',\n",
       " 'vinta/awesome-python',\n",
       " 'donnemartin/system-design-primer',\n",
       " 'brndnmtthws/thetagang',\n",
       " 'sdushantha/wifi-password',\n",
       " 'beurtschipper/Depix',\n",
       " 'raminmh/liquid_time_constant_networks',\n",
       " 'Z4nzu/hackingtool',\n",
       " 'dupontgu/retro-ipod-spotify-client',\n",
       " 'raspberrypi/pico-micropython-examples',\n",
       " 'FengQuanLi/ResnetGPT',\n",
       " 'ankitects/anki',\n",
       " 'projectdiscovery/nuclei-templates',\n",
       " 'davidbombal/red-python-scriptsPython',\n",
       " 'home-assistant/core🏡OpensourcehomeautomationthatputslocalcontrolandprivacyfirstPython',\n",
       " 'sgrvinod/a-PyTorch-Tutorial-to-Image-Captioning',\n",
       " 'optuna/optuna']"
      ]
     },
     "execution_count": 10,
     "metadata": {},
     "output_type": "execute_result"
    }
   ],
   "source": [
    "repo_names_def = [re.sub(r'\\s', '', x) for x in repo_names_clean_2]\n",
    "repo_names_def"
   ]
  },
  {
   "cell_type": "markdown",
   "metadata": {},
   "source": [
    "#### Display all the image links from Walt Disney wikipedia page."
   ]
  },
  {
   "cell_type": "code",
   "execution_count": 11,
   "metadata": {},
   "outputs": [],
   "source": [
    "# This is the url you will scrape in this exercise\n",
    "url_3 = 'https://en.wikipedia.org/wiki/Walt_Disney'"
   ]
  },
  {
   "cell_type": "code",
   "execution_count": 12,
   "metadata": {},
   "outputs": [],
   "source": [
    "# scraping wikipedia\n",
    "html_3 = requests.get(url_3).content\n",
    "soup_3 = BeautifulSoup(html_3, 'html.parser')"
   ]
  },
  {
   "cell_type": "code",
   "execution_count": 13,
   "metadata": {},
   "outputs": [
    {
     "data": {
      "text/plain": [
       "['/wiki/File:Walt_Disney_1946.JPG',\n",
       " '/wiki/File:Walt_Disney_envelope_ca._1921.jpg',\n",
       " '/wiki/File:Walt_Disney_envelope_ca._1921.jpg',\n",
       " '/wiki/File:Trolley_Troubles_poster.jpg',\n",
       " '/wiki/File:Trolley_Troubles_poster.jpg',\n",
       " '/wiki/File:Walt_Disney_and_his_cartoon_creation_%22Mickey_Mouse%22_-_National_Board_of_Review_Magazine.jpg',\n",
       " '/wiki/File:Walt_Disney_and_his_cartoon_creation_%22Mickey_Mouse%22_-_National_Board_of_Review_Magazine.jpg',\n",
       " '/wiki/File:Steamboat-willie.jpg',\n",
       " '/wiki/File:Steamboat-willie.jpg',\n",
       " '/wiki/File:Walt_Disney_1935.jpg',\n",
       " '/wiki/File:Walt_Disney_1935.jpg',\n",
       " '/wiki/File:Walt_Disney_Snow_white_1937_trailer_screenshot_(13).jpg',\n",
       " '/wiki/File:Walt_Disney_Snow_white_1937_trailer_screenshot_(13).jpg',\n",
       " '/wiki/File:Disney_drawing_goofy.jpg',\n",
       " '/wiki/File:Disney_drawing_goofy.jpg',\n",
       " '/wiki/File:DisneySchiphol1951.jpg',\n",
       " '/wiki/File:DisneySchiphol1951.jpg',\n",
       " '/wiki/File:WaltDisneyplansDisneylandDec1954.jpg',\n",
       " '/wiki/File:WaltDisneyplansDisneylandDec1954.jpg',\n",
       " '/wiki/File:Walt_disney_portrait_right.jpg',\n",
       " '/wiki/File:Walt_disney_portrait_right.jpg',\n",
       " '/wiki/File:Walt_Disney_Grave.JPG',\n",
       " '/wiki/File:Walt_Disney_Grave.JPG',\n",
       " '/wiki/File:Roy_O._Disney_with_Company_at_Press_Conference.jpg',\n",
       " '/wiki/File:Roy_O._Disney_with_Company_at_Press_Conference.jpg',\n",
       " '/wiki/File:Disney_Display_Case.JPG',\n",
       " '/wiki/File:Disney_Display_Case.JPG',\n",
       " '/wiki/File:Disney1968.jpg',\n",
       " '/wiki/File:Disney1968.jpg',\n",
       " '/wiki/File:Magic_Kingdom_castle.jpg']"
      ]
     },
     "execution_count": 13,
     "metadata": {},
     "output_type": "execute_result"
    }
   ],
   "source": [
    "# getting the info that we need\n",
    "table_3 = soup_3.find_all('div', {'class': 'thumbinner'})\n",
    "list_links = [a['href'] for a in soup_3.find_all('a', href=True)]\n",
    "\n",
    "# filtering the .png images mayus and minus\n",
    "image_links = [x for x in list_links if x.endswith('.jpg') | x.endswith('.JPG')]\n",
    "image_links"
   ]
  },
  {
   "cell_type": "markdown",
   "metadata": {},
   "source": [
    "#### Retrieve an arbitary Wikipedia page of \"Python\" and create a list of links on that page."
   ]
  },
  {
   "cell_type": "code",
   "execution_count": 14,
   "metadata": {},
   "outputs": [],
   "source": [
    "# This is the url you will scrape in this exercise\n",
    "url_4 ='https://en.wikipedia.org/wiki/PYTHON' "
   ]
  },
  {
   "cell_type": "code",
   "execution_count": 15,
   "metadata": {},
   "outputs": [
    {
     "data": {
      "text/plain": [
       "['https://en.wikipedia.org/w/index.php?title=PYTHON&oldid=1002462001',\n",
       " 'https://donate.wikimedia.org/wiki/Special:FundraiserRedirector?utm_source=donate&utm_medium=sidebar&utm_campaign=C13_en.wikipedia.org&uselang=en',\n",
       " 'https://www.wikidata.org/wiki/Special:EntityPage/Q29467582',\n",
       " 'https://fr.wikipedia.org/wiki/PYTHON',\n",
       " 'https://www.wikidata.org/wiki/Special:EntityPage/Q29467582#sitelinks-wikipedia',\n",
       " 'https://foundation.wikimedia.org/wiki/Privacy_policy',\n",
       " 'https://www.mediawiki.org/wiki/Special:MyLanguage/How_to_contribute',\n",
       " 'https://stats.wikimedia.org/#/en.wikipedia.org',\n",
       " 'https://foundation.wikimedia.org/wiki/Cookie_statement',\n",
       " 'https://wikimediafoundation.org/',\n",
       " 'https://www.mediawiki.org/']"
      ]
     },
     "execution_count": 15,
     "metadata": {},
     "output_type": "execute_result"
    }
   ],
   "source": [
    "html_4 = requests.get(url_4).content\n",
    "soup_4 = BeautifulSoup(html_4, 'html.parser')\n",
    "\n",
    "# getting the info that about the page\n",
    "table_4 = soup_4.find_all('div', {'class': 'mw-parser-output'})\n",
    "list_links_python = [a['href'] for a in soup_4.find_all('a', href=True)]\n",
    "\n",
    "# filtering the links that start by 'https'\n",
    "python_links = [x for x in list_links_python if x.startswith('https')]\n",
    "python_links"
   ]
  },
  {
   "cell_type": "markdown",
   "metadata": {},
   "source": [
    "#### Find the number of titles that have changed in the United States Code since its last release point."
   ]
  },
  {
   "cell_type": "code",
   "execution_count": 16,
   "metadata": {},
   "outputs": [],
   "source": [
    "# This is the url you will scrape in this exercise\n",
    "url_5 = 'http://uscode.house.gov/download/download.shtml'"
   ]
  },
  {
   "cell_type": "code",
   "execution_count": 17,
   "metadata": {},
   "outputs": [],
   "source": [
    "# scrapping\n",
    "html_5 = requests.get(url_5).content\n",
    "soup_5 = BeautifulSoup(html_5, 'html.parser')\n",
    "\n",
    "# getting the info that about the page\n",
    "table_5 = soup_5.find_all('div', {'class': 'uscitemlist'})\n",
    "raw_info_5 = [info.text for info in table_5]\n",
    "\n",
    "# cleaning text and extract Titles.\n",
    "info5_without_spaces = [re.sub(r'\\n', '', x) for x in raw_info_5]\n",
    "info5_split = info5_without_spaces[0].split('     ')\n",
    "info5_titles = [x for x in info5_split if x.startswith('Title') | x.startswith('   Title')]"
   ]
  },
  {
   "cell_type": "code",
   "execution_count": 18,
   "metadata": {},
   "outputs": [
    {
     "data": {
      "text/plain": [
       "['Title 6 - Domestic Security',\n",
       " 'Title 10 - Armed Forces ٭',\n",
       " 'Title 15 - Commerce and Trade',\n",
       " 'Title 20 - Education',\n",
       " 'Title 28 - Judiciary and Judicial Procedure ٭',\n",
       " 'Title 31 - Money and Finance ٭',\n",
       " 'Title 33 - Navigation and Navigable Waters',\n",
       " 'Title 36 - Patriotic and National Observances, Ceremonies, and Organizations ٭',\n",
       " 'Title 37 - Pay and Allowances of the Uniformed Services ٭',\n",
       " \"Title 38 - Veterans' Benefits ٭\",\n",
       " 'Title 40 - Public Buildings, Property, and Works ٭',\n",
       " 'Title 46 - Shipping ٭']"
      ]
     },
     "execution_count": 18,
     "metadata": {},
     "output_type": "execute_result"
    }
   ],
   "source": [
    "# extracting the elements that are in bold in the web\n",
    "index = [5, 9, 14, 19, 27, 30, 32, 35, 36, 37, 39, 45]\n",
    "titles_list_clean = [info5_titles[i] for i in index]\n",
    "titles_list_clean"
   ]
  },
  {
   "cell_type": "markdown",
   "metadata": {},
   "source": [
    "#### Find a Python list with the top ten FBI's Most Wanted names."
   ]
  },
  {
   "cell_type": "code",
   "execution_count": 19,
   "metadata": {},
   "outputs": [],
   "source": [
    "# This is the url you will scrape in this exercise\n",
    "url_6 = 'https://www.fbi.gov/wanted/topten'"
   ]
  },
  {
   "cell_type": "code",
   "execution_count": 20,
   "metadata": {},
   "outputs": [],
   "source": [
    "html_6 = requests.get(url_6).content\n",
    "soup_6 = BeautifulSoup(html_6, 'html.parser')"
   ]
  },
  {
   "cell_type": "code",
   "execution_count": 21,
   "metadata": {},
   "outputs": [
    {
     "data": {
      "text/plain": [
       "['ALEJANDRO ROSALES CASTILLO',\n",
       " 'ARNOLDO JIMENEZ',\n",
       " 'JASON DEREK BROWN',\n",
       " 'ALEXIS FLORES',\n",
       " 'JOSE RODOLFO VILLARREAL-HERNANDEZ',\n",
       " 'EUGENE PALMER',\n",
       " 'RAFAEL CARO-QUINTERO',\n",
       " 'ROBERT WILLIAM FISHER',\n",
       " 'BHADRESHKUMAR CHETANBHAI PATEL',\n",
       " 'YASER ABDEL SAID']"
      ]
     },
     "execution_count": 21,
     "metadata": {},
     "output_type": "execute_result"
    }
   ],
   "source": [
    "# getting the info that about the page\n",
    "table_6 = soup_6.find_all('div', {'class': 'query-results pat-pager'})\n",
    "raw_info_6 = [info.text for info in table_6]\n",
    "\n",
    "# extracting just the names\n",
    "info6_without_n = [x.replace('\\n', ' ') for x in raw_info_6]\n",
    "list_names = [x.split('     ') for x in info6_without_n]\n",
    "\n",
    "# cleaning the list of FBI's Most Wanted names.\n",
    "list_names[0].remove('   Results: 10 Items')\n",
    "list_names[0].remove('1 - 10 of 10 Results  ')\n",
    "names_cleaned = [str(x).replace('   ', '') for x in list_names[0]]\n",
    "fbi_most_wanted = [re.sub('^\\s', '', x) for x in names_cleaned]\n",
    "fbi_most_wanted"
   ]
  },
  {
   "cell_type": "markdown",
   "metadata": {},
   "source": [
    "####  Display the 20 latest earthquakes info (date, time, latitude, longitude and region name) by the EMSC as a pandas dataframe."
   ]
  },
  {
   "cell_type": "code",
   "execution_count": 22,
   "metadata": {},
   "outputs": [],
   "source": [
    "# This is the url you will scrape in this exercise\n",
    "url_7 = 'https://www.emsc-csem.org/Earthquake/'"
   ]
  },
  {
   "cell_type": "code",
   "execution_count": 57,
   "metadata": {},
   "outputs": [
    {
     "data": {
      "text/plain": [
       "['earthquake2021-02-0118:00:41.508min ago35.76N117.58W5Ml2.0SOUTHERN CALIFORNIA2021-02-01 18:02',\n",
       " 'earthquake2021-02-0117:47:06.321min ago38.96N26.00E15ML2.7NEAR THE COAST OF WESTERN TURKEY2021-02-01 17:57',\n",
       " 'earthquake2021-02-0117:29:22.039min ago21.21S69.05W92ML3.4TARAPACA, CHILE2021-02-01 17:40',\n",
       " '3IIIearthquake2021-02-0117:21:45.847min ago37.20N3.71W10ML3.0SPAIN2021-02-01 17:41',\n",
       " 'earthquake2021-02-0117:14:49.954min ago4.95N127.55E131mb4.6KEPULAUAN TALAUD, INDONESIA2021-02-01 17:54',\n",
       " 'earthquake2021-02-0117:10:29.158min ago37.89N26.88E7ML2.4DODECANESE ISLANDS, GREECE2021-02-01 17:19',\n",
       " 'earthquake2021-02-0116:44:46.01hr 24min ago37.20N3.73W0ML1.8SPAIN2021-02-01 16:53',\n",
       " 'earthquake2021-02-0116:31:09.41hr 37min ago37.19N3.70W10ML1.7SPAIN2021-02-01 16:38',\n",
       " 'earthquake2021-02-0116:22:24.41hr 46min ago38.94N26.07E2ML2.7NEAR THE COAST OF WESTERN TURKEY2021-02-01 16:34',\n",
       " 'Fearthquake2021-02-0116:13:17.51hr 55min ago40.79N48.56E7ML2.7AZERBAIJAN2021-02-01 17:05',\n",
       " 'earthquake2021-02-0115:54:36.02hr 14min ago8.00S114.20E10 M2.7BALI REGION, INDONESIA2021-02-01 16:20',\n",
       " 'earthquake2021-02-0115:46:19.32hr 22min ago19.21N155.45W36Md2.1ISLAND OF HAWAII, HAWAII2021-02-01 15:49',\n",
       " 'earthquake2021-02-0115:35:45.62hr 33min ago38.96N25.90E5ML2.5AEGEAN SEA2021-02-01 16:26',\n",
       " 'earthquake2021-02-0115:30:13.82hr 38min ago35.14N95.36W5ML2.5OKLAHOMA2021-02-01 16:02',\n",
       " 'earthquake2021-02-0115:27:29.52hr 41min ago31.67N104.40W5ML3.9WESTERN TEXAS2021-02-01 16:15',\n",
       " 'earthquake2021-02-0114:59:45.73hr 09min ago38.79N122.77W2Md2.0NORTHERN CALIFORNIA2021-02-01 15:01',\n",
       " 'earthquake2021-02-0114:50:37.43hr 18min ago38.97N26.06E10ML2.6NEAR THE COAST OF WESTERN TURKEY2021-02-01 15:37',\n",
       " 'earthquake2021-02-0114:42:19.73hr 26min ago19.48N155.44W2Ml2.2ISLAND OF HAWAII, HAWAII2021-02-01 14:47',\n",
       " 'earthquake2021-02-0114:30:30.03hr 38min ago34.00N134.50E10 M4.0NEAR S. COAST OF WESTERN HONSHU2021-02-01 14:40',\n",
       " 'Fearthquake2021-02-0114:21:56.83hr 46min ago38.97N26.07E17ML3.4NEAR THE COAST OF WESTERN TURKEY2021-02-01 15:27',\n",
       " 'earthquake2021-02-0113:57:04.44hr 11min ago37.70N122.11W4Md2.1SAN FRANCISCO BAY AREA, CALIF.2021-02-01 13:58',\n",
       " 'earthquake2021-02-0113:38:09.34hr 30min ago45.08S167.37E72M 3.5SOUTH ISLAND OF NEW ZEALAND2021-02-01 13:45',\n",
       " 'earthquake2021-02-0113:32:01.04hr 36min ago21.73S68.55W122ML2.6ANTOFAGASTA, CHILE2021-02-01 13:46',\n",
       " 'earthquake2021-02-0113:25:51.64hr 42min ago37.20N3.72W6ML1.5SPAIN2021-02-01 14:04',\n",
       " '1Fearthquake2021-02-0113:22:31.84hr 46min ago37.20N3.73W6ML3.0SPAIN2021-02-01 13:30',\n",
       " 'earthquake2021-02-0118:00:41.508min ago35.76N117.58W5Ml2.0SOUTHERN CALIFORNIA2021-02-01 18:02',\n",
       " 'earthquake2021-02-0117:47:06.321min ago38.96N26.00E15ML2.7NEAR THE COAST OF WESTERN TURKEY2021-02-01 17:57',\n",
       " 'earthquake2021-02-0117:29:22.039min ago21.21S69.05W92ML3.4TARAPACA, CHILE2021-02-01 17:40',\n",
       " '3IIIearthquake2021-02-0117:21:45.847min ago37.20N3.71W10ML3.0SPAIN2021-02-01 17:41',\n",
       " 'earthquake2021-02-0117:14:49.954min ago4.95N127.55E131mb4.6KEPULAUAN TALAUD, INDONESIA2021-02-01 17:54',\n",
       " 'earthquake2021-02-0117:10:29.158min ago37.89N26.88E7ML2.4DODECANESE ISLANDS, GREECE2021-02-01 17:19',\n",
       " 'earthquake2021-02-0116:44:46.01hr 24min ago37.20N3.73W0ML1.8SPAIN2021-02-01 16:53',\n",
       " 'earthquake2021-02-0116:31:09.41hr 37min ago37.19N3.70W10ML1.7SPAIN2021-02-01 16:38',\n",
       " 'earthquake2021-02-0116:22:24.41hr 46min ago38.94N26.07E2ML2.7NEAR THE COAST OF WESTERN TURKEY2021-02-01 16:34',\n",
       " 'Fearthquake2021-02-0116:13:17.51hr 55min ago40.79N48.56E7ML2.7AZERBAIJAN2021-02-01 17:05',\n",
       " 'earthquake2021-02-0115:54:36.02hr 14min ago8.00S114.20E10 M2.7BALI REGION, INDONESIA2021-02-01 16:20',\n",
       " 'earthquake2021-02-0115:46:19.32hr 22min ago19.21N155.45W36Md2.1ISLAND OF HAWAII, HAWAII2021-02-01 15:49',\n",
       " 'earthquake2021-02-0115:35:45.62hr 33min ago38.96N25.90E5ML2.5AEGEAN SEA2021-02-01 16:26',\n",
       " 'earthquake2021-02-0115:30:13.82hr 38min ago35.14N95.36W5ML2.5OKLAHOMA2021-02-01 16:02',\n",
       " 'earthquake2021-02-0115:27:29.52hr 41min ago31.67N104.40W5ML3.9WESTERN TEXAS2021-02-01 16:15',\n",
       " 'earthquake2021-02-0114:59:45.73hr 09min ago38.79N122.77W2Md2.0NORTHERN CALIFORNIA2021-02-01 15:01',\n",
       " 'earthquake2021-02-0114:50:37.43hr 18min ago38.97N26.06E10ML2.6NEAR THE COAST OF WESTERN TURKEY2021-02-01 15:37',\n",
       " 'earthquake2021-02-0114:42:19.73hr 26min ago19.48N155.44W2Ml2.2ISLAND OF HAWAII, HAWAII2021-02-01 14:47',\n",
       " 'earthquake2021-02-0114:30:30.03hr 38min ago34.00N134.50E10 M4.0NEAR S. COAST OF WESTERN HONSHU2021-02-01 14:40',\n",
       " 'Fearthquake2021-02-0114:21:56.83hr 46min ago38.97N26.07E17ML3.4NEAR THE COAST OF WESTERN TURKEY2021-02-01 15:27',\n",
       " 'earthquake2021-02-0113:57:04.44hr 11min ago37.70N122.11W4Md2.1SAN FRANCISCO BAY AREA, CALIF.2021-02-01 13:58',\n",
       " 'earthquake2021-02-0113:38:09.34hr 30min ago45.08S167.37E72M 3.5SOUTH ISLAND OF NEW ZEALAND2021-02-01 13:45',\n",
       " 'earthquake2021-02-0113:32:01.04hr 36min ago21.73S68.55W122ML2.6ANTOFAGASTA, CHILE2021-02-01 13:46',\n",
       " 'earthquake2021-02-0113:25:51.64hr 42min ago37.20N3.72W6ML1.5SPAIN2021-02-01 14:04',\n",
       " '1Fearthquake2021-02-0113:22:31.84hr 46min ago37.20N3.73W6ML3.0SPAIN2021-02-01 13:30']"
      ]
     },
     "execution_count": 57,
     "metadata": {},
     "output_type": "execute_result"
    }
   ],
   "source": [
    "html_7 = requests.get(url_7).content\n",
    "soup_7 = BeautifulSoup(html_7, 'html.parser')\n",
    "\n",
    "# getting the info about the earthquake 1\n",
    "table_7 = soup_7.find_all('tr', {'class': 'ligne1 normal'}) # hay que añadirle las ligne2 normal\n",
    "eq_type_1 = [info.text for info in table_7]\n",
    "\n",
    "# getting the info about the earthquake 1\n",
    "table_7_2 = soup_7.find_all('tr', {'class': 'ligne2 normal'}) # hay que añadirle las ligne2 normal\n",
    "eq_type_2 = [info.text for info in table_7]\n",
    "\n",
    "# combining the two lists\n",
    "eq_list = eq_type_1 + eq_type_2\n",
    "eq_list_clean = [x.replace('\\xa0', '') for x in eq_list]\n",
    "eq_list_clean"
   ]
  },
  {
   "cell_type": "code",
   "execution_count": 119,
   "metadata": {},
   "outputs": [
    {
     "data": {
      "text/plain": [
       "[['N', 'W', 'M', 'SOUTHERN', 'CALIFORNIA'],\n",
       " ['N', 'E', 'ML', 'NEAR', 'THE', 'COAST', 'OF', 'WESTERN', 'TURKEY'],\n",
       " ['S', 'W', 'ML', 'TARAPACA', 'CHILE'],\n",
       " ['III', 'N', 'W', 'ML', 'SPAIN'],\n",
       " ['N', 'E', 'KEPULAUAN', 'TALAUD', 'INDONESIA'],\n",
       " ['N', 'E', 'ML', 'DODECANESE', 'ISLANDS', 'GREECE'],\n",
       " ['N', 'W', 'ML', 'SPAIN'],\n",
       " ['N', 'W', 'ML', 'SPAIN'],\n",
       " ['N', 'E', 'ML', 'NEAR', 'THE', 'COAST', 'OF', 'WESTERN', 'TURKEY'],\n",
       " ['F', 'N', 'E', 'ML', 'AZERBAIJAN'],\n",
       " ['S', 'E', 'M', 'BALI', 'REGION', 'INDONESIA'],\n",
       " ['N', 'W', 'M', 'ISLAND', 'OF', 'HAWAII', 'HAWAII'],\n",
       " ['N', 'E', 'ML', 'AEGEAN', 'SEA'],\n",
       " ['N', 'W', 'ML', 'OKLAHOMA'],\n",
       " ['N', 'W', 'ML', 'WESTERN', 'TEXAS'],\n",
       " ['N', 'W', 'M', 'NORTHERN', 'CALIFORNIA'],\n",
       " ['N', 'E', 'ML', 'NEAR', 'THE', 'COAST', 'OF', 'WESTERN', 'TURKEY'],\n",
       " ['N', 'W', 'M', 'ISLAND', 'OF', 'HAWAII', 'HAWAII'],\n",
       " ['N', 'E', 'M', 'NEAR', 'S', 'COAST', 'OF', 'WESTERN', 'HONSHU'],\n",
       " ['F', 'N', 'E', 'ML', 'NEAR', 'THE', 'COAST', 'OF', 'WESTERN', 'TURKEY'],\n",
       " ['N', 'W', 'M', 'SAN', 'FRANCISCO', 'BAY', 'AREA', 'CALIF'],\n",
       " ['S', 'E', 'M', 'SOUTH', 'ISLAND', 'OF', 'NEW', 'ZEALAND'],\n",
       " ['S', 'W', 'ML', 'ANTOFAGASTA', 'CHILE'],\n",
       " ['N', 'W', 'ML', 'SPAIN'],\n",
       " ['F', 'N', 'W', 'ML', 'SPAIN'],\n",
       " ['N', 'W', 'M', 'SOUTHERN', 'CALIFORNIA'],\n",
       " ['N', 'E', 'ML', 'NEAR', 'THE', 'COAST', 'OF', 'WESTERN', 'TURKEY'],\n",
       " ['S', 'W', 'ML', 'TARAPACA', 'CHILE'],\n",
       " ['III', 'N', 'W', 'ML', 'SPAIN'],\n",
       " ['N', 'E', 'KEPULAUAN', 'TALAUD', 'INDONESIA'],\n",
       " ['N', 'E', 'ML', 'DODECANESE', 'ISLANDS', 'GREECE'],\n",
       " ['N', 'W', 'ML', 'SPAIN'],\n",
       " ['N', 'W', 'ML', 'SPAIN'],\n",
       " ['N', 'E', 'ML', 'NEAR', 'THE', 'COAST', 'OF', 'WESTERN', 'TURKEY'],\n",
       " ['F', 'N', 'E', 'ML', 'AZERBAIJAN'],\n",
       " ['S', 'E', 'M', 'BALI', 'REGION', 'INDONESIA'],\n",
       " ['N', 'W', 'M', 'ISLAND', 'OF', 'HAWAII', 'HAWAII'],\n",
       " ['N', 'E', 'ML', 'AEGEAN', 'SEA'],\n",
       " ['N', 'W', 'ML', 'OKLAHOMA'],\n",
       " ['N', 'W', 'ML', 'WESTERN', 'TEXAS'],\n",
       " ['N', 'W', 'M', 'NORTHERN', 'CALIFORNIA'],\n",
       " ['N', 'E', 'ML', 'NEAR', 'THE', 'COAST', 'OF', 'WESTERN', 'TURKEY'],\n",
       " ['N', 'W', 'M', 'ISLAND', 'OF', 'HAWAII', 'HAWAII'],\n",
       " ['N', 'E', 'M', 'NEAR', 'S', 'COAST', 'OF', 'WESTERN', 'HONSHU'],\n",
       " ['F', 'N', 'E', 'ML', 'NEAR', 'THE', 'COAST', 'OF', 'WESTERN', 'TURKEY'],\n",
       " ['N', 'W', 'M', 'SAN', 'FRANCISCO', 'BAY', 'AREA', 'CALIF'],\n",
       " ['S', 'E', 'M', 'SOUTH', 'ISLAND', 'OF', 'NEW', 'ZEALAND'],\n",
       " ['S', 'W', 'ML', 'ANTOFAGASTA', 'CHILE'],\n",
       " ['N', 'W', 'ML', 'SPAIN'],\n",
       " ['F', 'N', 'W', 'ML', 'SPAIN']]"
      ]
     },
     "execution_count": 119,
     "metadata": {},
     "output_type": "execute_result"
    }
   ],
   "source": [
    "# extracting the date\n",
    "eq_date = [re.findall(r'([0-9]{4}\\-[0-9]{2}\\-[0-9]{2})', x) for x in eq_list_clean]\n",
    "\n",
    "# extracting the time.\n",
    "eq_time = [re.findall(r'([0-9]{2}\\:[0-9]{2}\\:[0-9]{2})', x) for x in eq_list_clean]\n",
    "\n",
    "# extracting latitude and longitud\n",
    "eq_latitude_longitud = [re.findall(r'([0-9]+\\.[0-9]{2}[A-Z])', x) for x in eq_list_clean]\n",
    "eq_latitude_list = [lat[0] for lat in eq_latitude_longitud]\n",
    "eq_longitud_list = [lon[1] for lon in eq_latitude_longitud]\n",
    "\n",
    "# extracting the region name\n",
    "eq_region = [re.findall(r'[A-Z]+', x) for x in eq_list_clean]\n",
    "eq_region"
   ]
  },
  {
   "cell_type": "markdown",
   "metadata": {},
   "source": [
    "#### Count the number of tweets by a given Twitter account.\n",
    "Ask the user for the handle (@handle) of a twitter account. You will need to include a ***try/except block*** for account names not found. \n",
    "<br>***Hint:*** the program should count the number of tweets for any provided account."
   ]
  },
  {
   "cell_type": "code",
   "execution_count": 24,
   "metadata": {},
   "outputs": [],
   "source": [
    "# This is the url you will scrape in this exercise \n",
    "# You will need to add the account credentials to this url\n",
    "url = 'https://twitter.com/'"
   ]
  },
  {
   "cell_type": "code",
   "execution_count": 25,
   "metadata": {},
   "outputs": [],
   "source": [
    "# your code here"
   ]
  },
  {
   "cell_type": "markdown",
   "metadata": {},
   "source": [
    "#### Number of followers of a given twitter account\n",
    "Ask the user for the handle (@handle) of a twitter account. You will need to include a ***try/except block*** for account names not found. \n",
    "<br>***Hint:*** the program should count the followers for any provided account."
   ]
  },
  {
   "cell_type": "code",
   "execution_count": 26,
   "metadata": {},
   "outputs": [],
   "source": [
    "# This is the url you will scrape in this exercise \n",
    "# You will need to add the account credentials to this url\n",
    "url = 'https://twitter.com/'"
   ]
  },
  {
   "cell_type": "code",
   "execution_count": 27,
   "metadata": {},
   "outputs": [],
   "source": [
    "# your code here"
   ]
  },
  {
   "cell_type": "markdown",
   "metadata": {},
   "source": [
    "#### List all language names and number of related articles in the order they appear in wikipedia.org."
   ]
  },
  {
   "cell_type": "code",
   "execution_count": 28,
   "metadata": {},
   "outputs": [],
   "source": [
    "# This is the url you will scrape in this exercise\n",
    "url = 'https://www.wikipedia.org/'"
   ]
  },
  {
   "cell_type": "code",
   "execution_count": 29,
   "metadata": {},
   "outputs": [],
   "source": [
    "# your code here"
   ]
  },
  {
   "cell_type": "markdown",
   "metadata": {},
   "source": [
    "#### A list with the different kind of datasets available in data.gov.uk."
   ]
  },
  {
   "cell_type": "code",
   "execution_count": 30,
   "metadata": {},
   "outputs": [],
   "source": [
    "# This is the url you will scrape in this exercise\n",
    "url = 'https://data.gov.uk/'"
   ]
  },
  {
   "cell_type": "code",
   "execution_count": 31,
   "metadata": {},
   "outputs": [],
   "source": [
    "# your code here"
   ]
  },
  {
   "cell_type": "markdown",
   "metadata": {},
   "source": [
    "#### Display the top 10 languages by number of native speakers stored in a pandas dataframe."
   ]
  },
  {
   "cell_type": "code",
   "execution_count": 32,
   "metadata": {},
   "outputs": [],
   "source": [
    "# This is the url you will scrape in this exercise\n",
    "url = 'https://en.wikipedia.org/wiki/List_of_languages_by_number_of_native_speakers'"
   ]
  },
  {
   "cell_type": "code",
   "execution_count": 33,
   "metadata": {},
   "outputs": [],
   "source": [
    "# your code here"
   ]
  },
  {
   "cell_type": "markdown",
   "metadata": {},
   "source": [
    "## Bonus\n",
    "#### Scrape a certain number of tweets of a given Twitter account."
   ]
  },
  {
   "cell_type": "code",
   "execution_count": 34,
   "metadata": {},
   "outputs": [],
   "source": [
    "# This is the url you will scrape in this exercise \n",
    "# You will need to add the account credentials to this url\n",
    "url = 'https://twitter.com/'"
   ]
  },
  {
   "cell_type": "code",
   "execution_count": 35,
   "metadata": {},
   "outputs": [],
   "source": [
    "# your code here"
   ]
  },
  {
   "cell_type": "markdown",
   "metadata": {},
   "source": [
    "#### Display IMDB's top 250 data (movie name, initial release, director name and stars) as a pandas dataframe."
   ]
  },
  {
   "cell_type": "code",
   "execution_count": 36,
   "metadata": {},
   "outputs": [],
   "source": [
    "# This is the url you will scrape in this exercise \n",
    "url = 'https://www.imdb.com/chart/top'"
   ]
  },
  {
   "cell_type": "code",
   "execution_count": 37,
   "metadata": {},
   "outputs": [],
   "source": [
    "# your code here"
   ]
  },
  {
   "cell_type": "markdown",
   "metadata": {},
   "source": [
    "#### Display the movie name, year and a brief summary of the top 10 random movies (IMDB) as a pandas dataframe."
   ]
  },
  {
   "cell_type": "code",
   "execution_count": 38,
   "metadata": {},
   "outputs": [],
   "source": [
    "#This is the url you will scrape in this exercise\n",
    "url = 'http://www.imdb.com/chart/top'"
   ]
  },
  {
   "cell_type": "code",
   "execution_count": 39,
   "metadata": {},
   "outputs": [],
   "source": [
    "# your code here"
   ]
  },
  {
   "cell_type": "markdown",
   "metadata": {},
   "source": [
    "#### Find the live weather report (temperature, wind speed, description and weather) of a given city."
   ]
  },
  {
   "cell_type": "code",
   "execution_count": 40,
   "metadata": {},
   "outputs": [
    {
     "ename": "KeyboardInterrupt",
     "evalue": "Interrupted by user",
     "output_type": "error",
     "traceback": [
      "\u001b[0;31m---------------------------------------------------------------------------\u001b[0m",
      "\u001b[0;31mKeyboardInterrupt\u001b[0m                         Traceback (most recent call last)",
      "\u001b[0;32m<ipython-input-40-0299fa35631a>\u001b[0m in \u001b[0;36m<module>\u001b[0;34m\u001b[0m\n\u001b[1;32m      1\u001b[0m \u001b[0;31m#https://openweathermap.org/current\u001b[0m\u001b[0;34m\u001b[0m\u001b[0;34m\u001b[0m\u001b[0;34m\u001b[0m\u001b[0m\n\u001b[0;32m----> 2\u001b[0;31m \u001b[0mcity\u001b[0m \u001b[0;34m=\u001b[0m \u001b[0minput\u001b[0m\u001b[0;34m(\u001b[0m\u001b[0;34m'Enter the city: '\u001b[0m\u001b[0;34m)\u001b[0m\u001b[0;34m\u001b[0m\u001b[0;34m\u001b[0m\u001b[0m\n\u001b[0m\u001b[1;32m      3\u001b[0m \u001b[0murl\u001b[0m \u001b[0;34m=\u001b[0m \u001b[0;34m'http://api.openweathermap.org/data/2.5/weather?'\u001b[0m\u001b[0;34m+\u001b[0m\u001b[0;34m'q='\u001b[0m\u001b[0;34m+\u001b[0m\u001b[0mcity\u001b[0m\u001b[0;34m+\u001b[0m\u001b[0;34m'&APPID=b35975e18dc93725acb092f7272cc6b8&units=metric'\u001b[0m\u001b[0;34m\u001b[0m\u001b[0;34m\u001b[0m\u001b[0m\n",
      "\u001b[0;32m~/miniconda3/envs/ironhack_env/lib/python3.8/site-packages/ipykernel/kernelbase.py\u001b[0m in \u001b[0;36mraw_input\u001b[0;34m(self, prompt)\u001b[0m\n\u001b[1;32m    858\u001b[0m                 \u001b[0;34m\"raw_input was called, but this frontend does not support input requests.\"\u001b[0m\u001b[0;34m\u001b[0m\u001b[0;34m\u001b[0m\u001b[0m\n\u001b[1;32m    859\u001b[0m             )\n\u001b[0;32m--> 860\u001b[0;31m         return self._input_request(str(prompt),\n\u001b[0m\u001b[1;32m    861\u001b[0m             \u001b[0mself\u001b[0m\u001b[0;34m.\u001b[0m\u001b[0m_parent_ident\u001b[0m\u001b[0;34m,\u001b[0m\u001b[0;34m\u001b[0m\u001b[0;34m\u001b[0m\u001b[0m\n\u001b[1;32m    862\u001b[0m             \u001b[0mself\u001b[0m\u001b[0;34m.\u001b[0m\u001b[0m_parent_header\u001b[0m\u001b[0;34m,\u001b[0m\u001b[0;34m\u001b[0m\u001b[0;34m\u001b[0m\u001b[0m\n",
      "\u001b[0;32m~/miniconda3/envs/ironhack_env/lib/python3.8/site-packages/ipykernel/kernelbase.py\u001b[0m in \u001b[0;36m_input_request\u001b[0;34m(self, prompt, ident, parent, password)\u001b[0m\n\u001b[1;32m    902\u001b[0m             \u001b[0;32mexcept\u001b[0m \u001b[0mKeyboardInterrupt\u001b[0m\u001b[0;34m:\u001b[0m\u001b[0;34m\u001b[0m\u001b[0;34m\u001b[0m\u001b[0m\n\u001b[1;32m    903\u001b[0m                 \u001b[0;31m# re-raise KeyboardInterrupt, to truncate traceback\u001b[0m\u001b[0;34m\u001b[0m\u001b[0;34m\u001b[0m\u001b[0;34m\u001b[0m\u001b[0m\n\u001b[0;32m--> 904\u001b[0;31m                 \u001b[0;32mraise\u001b[0m \u001b[0mKeyboardInterrupt\u001b[0m\u001b[0;34m(\u001b[0m\u001b[0;34m\"Interrupted by user\"\u001b[0m\u001b[0;34m)\u001b[0m \u001b[0;32mfrom\u001b[0m \u001b[0;32mNone\u001b[0m\u001b[0;34m\u001b[0m\u001b[0;34m\u001b[0m\u001b[0m\n\u001b[0m\u001b[1;32m    905\u001b[0m             \u001b[0;32mexcept\u001b[0m \u001b[0mException\u001b[0m \u001b[0;32mas\u001b[0m \u001b[0me\u001b[0m\u001b[0;34m:\u001b[0m\u001b[0;34m\u001b[0m\u001b[0;34m\u001b[0m\u001b[0m\n\u001b[1;32m    906\u001b[0m                 \u001b[0mself\u001b[0m\u001b[0;34m.\u001b[0m\u001b[0mlog\u001b[0m\u001b[0;34m.\u001b[0m\u001b[0mwarning\u001b[0m\u001b[0;34m(\u001b[0m\u001b[0;34m\"Invalid Message:\"\u001b[0m\u001b[0;34m,\u001b[0m \u001b[0mexc_info\u001b[0m\u001b[0;34m=\u001b[0m\u001b[0;32mTrue\u001b[0m\u001b[0;34m)\u001b[0m\u001b[0;34m\u001b[0m\u001b[0;34m\u001b[0m\u001b[0m\n",
      "\u001b[0;31mKeyboardInterrupt\u001b[0m: Interrupted by user"
     ]
    }
   ],
   "source": [
    "#https://openweathermap.org/current\n",
    "city = input('Enter the city: ')\n",
    "url = 'http://api.openweathermap.org/data/2.5/weather?'+'q='+city+'&APPID=b35975e18dc93725acb092f7272cc6b8&units=metric'"
   ]
  },
  {
   "cell_type": "code",
   "execution_count": null,
   "metadata": {},
   "outputs": [],
   "source": [
    "# your code here"
   ]
  },
  {
   "cell_type": "markdown",
   "metadata": {},
   "source": [
    "#### Find the book name, price and stock availability as a pandas dataframe."
   ]
  },
  {
   "cell_type": "code",
   "execution_count": null,
   "metadata": {},
   "outputs": [],
   "source": [
    "# This is the url you will scrape in this exercise. \n",
    "# It is a fictional bookstore created to be scraped. \n",
    "url = 'http://books.toscrape.com/'"
   ]
  },
  {
   "cell_type": "code",
   "execution_count": null,
   "metadata": {},
   "outputs": [],
   "source": [
    "# your code here"
   ]
  }
 ],
 "metadata": {
  "kernelspec": {
   "display_name": "Python [conda env:ironhack_env]",
   "language": "python",
   "name": "conda-env-ironhack_env-py"
  },
  "language_info": {
   "codemirror_mode": {
    "name": "ipython",
    "version": 3
   },
   "file_extension": ".py",
   "mimetype": "text/x-python",
   "name": "python",
   "nbconvert_exporter": "python",
   "pygments_lexer": "ipython3",
   "version": "3.8.5"
  }
 },
 "nbformat": 4,
 "nbformat_minor": 4
}
